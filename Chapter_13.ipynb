{
  "nbformat": 4,
  "nbformat_minor": 0,
  "metadata": {
    "colab": {
      "provenance": [],
      "authorship_tag": "ABX9TyPEwB0sESN2rpnnU0yUojXS",
      "include_colab_link": true
    },
    "kernelspec": {
      "name": "python3",
      "display_name": "Python 3"
    },
    "language_info": {
      "name": "python"
    },
        "09b24bee11cd41488486e4a95f4b2044": {
          "model_module": "@jupyter-widgets/controls",
          "model_name": "HTMLModel",
          "model_module_version": "1.5.0",
          "state": {
            "_dom_classes": [],
            "_model_module": "@jupyter-widgets/controls",
            "_model_module_version": "1.5.0",
            "_model_name": "HTMLModel",
            "_view_count": null,
            "_view_module": "@jupyter-widgets/controls",
            "_view_module_version": "1.5.0",
            "_view_name": "HTMLView",
            "description": "",
            "description_tooltip": null,
            "layout": "IPY_MODEL_f1c99431591d44b4a527f379cb714e08",
            "placeholder": "​",
            "style": "IPY_MODEL_99af4b8e8b5a47659fc77f6986f43aac",
            "value": "Dl Completed...: 100%"
          }
        },
        "a24aa1b86b4a4beaae6ee42e61c994f3": {
          "model_module": "@jupyter-widgets/controls",
          "model_name": "FloatProgressModel",
          "model_module_version": "1.5.0",
          "state": {
            "_dom_classes": [],
            "_model_module": "@jupyter-widgets/controls",
            "_model_module_version": "1.5.0",
            "_model_name": "FloatProgressModel",
            "_view_count": null,
            "_view_module": "@jupyter-widgets/controls",
            "_view_module_version": "1.5.0",
            "_view_name": "ProgressView",
            "bar_style": "success",
            "description": "",
            "description_tooltip": null,
            "layout": "IPY_MODEL_81b7e87f29164e2c8798b3d26ba0ab65",
            "max": 1,
            "min": 0,
            "orientation": "horizontal",
            "style": "IPY_MODEL_3918e1f120c04f77b5b1d4dd3da996e6",
            "value": 1
          }
        },
        "2a3be31a0a1c462089b35f478f145535": {
          "model_module": "@jupyter-widgets/controls",
          "model_name": "HTMLModel",
          "model_module_version": "1.5.0",
          "state": {
            "_dom_classes": [],
            "_model_module": "@jupyter-widgets/controls",
            "_model_module_version": "1.5.0",
            "_model_name": "HTMLModel",
            "_view_count": null,
            "_view_module": "@jupyter-widgets/controls",
            "_view_module_version": "1.5.0",
            "_view_name": "HTMLView",
            "description": "",
            "description_tooltip": null,
            "layout": "IPY_MODEL_cde091d16aab42f7a03b3c098b584f4a",
            "placeholder": "​",
            "style": "IPY_MODEL_8384fe1820874fce90e97ab8c13584a4",
            "value": " 4/4 [00:02&lt;00:00,  1.90 url/s]"
          }
        },
        "1aaadec4e4dd429fad1b52a89a318a51": {
          "model_module": "@jupyter-widgets/base",
          "model_name": "LayoutModel",
          "model_module_version": "1.2.0",
          "state": {
            "_model_module": "@jupyter-widgets/base",
            "_model_module_version": "1.2.0",
            "_model_name": "LayoutModel",
            "_view_count": null,
            "_view_module": "@jupyter-widgets/base",
            "_view_module_version": "1.2.0",
            "_view_name": "LayoutView",
            "align_content": null,
            "align_items": null,
            "align_self": null,
            "border": null,
            "bottom": null,
            "display": null,
            "flex": null,
            "flex_flow": null,
            "grid_area": null,
            "grid_auto_columns": null,
            "grid_auto_flow": null,
            "grid_auto_rows": null,
            "grid_column": null,
            "grid_gap": null,
            "grid_row": null,
            "grid_template_areas": null,
            "grid_template_columns": null,
            "grid_template_rows": null,
            "height": null,
            "justify_content": null,
            "justify_items": null,
            "left": null,
            "margin": null,
            "max_height": null,
            "max_width": null,
            "min_height": null,
            "min_width": null,
            "object_fit": null,
            "object_position": null,
            "order": null,
            "overflow": null,
            "overflow_x": null,
            "overflow_y": null,
            "padding": null,
            "right": null,
            "top": null,
            "visibility": null,
            "width": null
          }
        },
        "f1c99431591d44b4a527f379cb714e08": {
          "model_module": "@jupyter-widgets/base",
          "model_name": "LayoutModel",
          "model_module_version": "1.2.0",
          "state": {
            "_model_module": "@jupyter-widgets/base",
            "_model_module_version": "1.2.0",
            "_model_name": "LayoutModel",
            "_view_count": null,
            "_view_module": "@jupyter-widgets/base",
            "_view_module_version": "1.2.0",
            "_view_name": "LayoutView",
            "align_content": null,
            "align_items": null,
            "align_self": null,
            "border": null,
            "bottom": null,
            "display": null,
            "flex": null,
            "flex_flow": null,
            "grid_area": null,
            "grid_auto_columns": null,
            "grid_auto_flow": null,
            "grid_auto_rows": null,
            "grid_column": null,
            "grid_gap": null,
            "grid_row": null,
            "grid_template_areas": null,
            "grid_template_columns": null,
            "grid_template_rows": null,
            "height": null,
            "justify_content": null,
            "justify_items": null,
            "left": null,
            "margin": null,
            "max_height": null,
            "max_width": null,
            "min_height": null,
            "min_width": null,
            "object_fit": null,
            "object_position": null,
            "order": null,
            "overflow": null,
            "overflow_x": null,
            "overflow_y": null,
            "padding": null,
            "right": null,
            "top": null,
            "visibility": null,
            "width": null
          }
        },
        "99af4b8e8b5a47659fc77f6986f43aac": {
          "model_module": "@jupyter-widgets/controls",
          "model_name": "DescriptionStyleModel",
          "model_module_version": "1.5.0",
          "state": {
            "_model_module": "@jupyter-widgets/controls",
            "_model_module_version": "1.5.0",
            "_model_name": "DescriptionStyleModel",
            "_view_count": null,
            "_view_module": "@jupyter-widgets/base",
            "_view_module_version": "1.2.0",
            "_view_name": "StyleView",
            "description_width": ""
          }
        },
        "81b7e87f29164e2c8798b3d26ba0ab65": {
          "model_module": "@jupyter-widgets/base",
          "model_name": "LayoutModel",
          "model_module_version": "1.2.0",
          "state": {
            "_model_module": "@jupyter-widgets/base",
            "_model_module_version": "1.2.0",
            "_model_name": "LayoutModel",
            "_view_count": null,
            "_view_module": "@jupyter-widgets/base",
            "_view_module_version": "1.2.0",
            "_view_name": "LayoutView",
            "align_content": null,
            "align_items": null,
            "align_self": null,
            "border": null,
            "bottom": null,
            "display": null,
            "flex": null,
            "flex_flow": null,
            "grid_area": null,
            "grid_auto_columns": null,
            "grid_auto_flow": null,
            "grid_auto_rows": null,
            "grid_column": null,
            "grid_gap": null,
            "grid_row": null,
            "grid_template_areas": null,
            "grid_template_columns": null,
            "grid_template_rows": null,
            "height": null,
            "justify_content": null,
            "justify_items": null,
            "left": null,
            "margin": null,
            "max_height": null,
            "max_width": null,
            "min_height": null,
            "min_width": null,
            "object_fit": null,
            "object_position": null,
            "order": null,
            "overflow": null,
            "overflow_x": null,
            "overflow_y": null,
            "padding": null,
            "right": null,
            "top": null,
            "visibility": null,
            "width": "20px"
          }
        },
        "3918e1f120c04f77b5b1d4dd3da996e6": {
          "model_module": "@jupyter-widgets/controls",
          "model_name": "ProgressStyleModel",
          "model_module_version": "1.5.0",
          "state": {
            "_model_module": "@jupyter-widgets/controls",
            "_model_module_version": "1.5.0",
            "_model_name": "ProgressStyleModel",
            "_view_count": null,
            "_view_module": "@jupyter-widgets/base",
            "_view_module_version": "1.2.0",
            "_view_name": "StyleView",
            "bar_color": null,
            "description_width": ""
          }
        },
        "cde091d16aab42f7a03b3c098b584f4a": {
          "model_module": "@jupyter-widgets/base",
          "model_name": "LayoutModel",
          "model_module_version": "1.2.0",
          "state": {
            "_model_module": "@jupyter-widgets/base",
            "_model_module_version": "1.2.0",
            "_model_name": "LayoutModel",
            "_view_count": null,
            "_view_module": "@jupyter-widgets/base",
            "_view_module_version": "1.2.0",
            "_view_name": "LayoutView",
            "align_content": null,
            "align_items": null,
            "align_self": null,
            "border": null,
            "bottom": null,
            "display": null,
            "flex": null,
            "flex_flow": null,
            "grid_area": null,
            "grid_auto_columns": null,
            "grid_auto_flow": null,
            "grid_auto_rows": null,
            "grid_column": null,
            "grid_gap": null,
            "grid_row": null,
            "grid_template_areas": null,
            "grid_template_columns": null,
            "grid_template_rows": null,
            "height": null,
            "justify_content": null,
            "justify_items": null,
            "left": null,
            "margin": null,
            "max_height": null,
            "max_width": null,
            "min_height": null,
            "min_width": null,
            "object_fit": null,
            "object_position": null,
            "order": null,
            "overflow": null,
            "overflow_x": null,
            "overflow_y": null,
            "padding": null,
            "right": null,
            "top": null,
            "visibility": null,
            "width": null
          }
        },
        "8384fe1820874fce90e97ab8c13584a4": {
          "model_module": "@jupyter-widgets/controls",
          "model_name": "DescriptionStyleModel",
          "model_module_version": "1.5.0",
          "state": {
            "_model_module": "@jupyter-widgets/controls",
            "_model_module_version": "1.5.0",
            "_model_name": "DescriptionStyleModel",
            "_view_count": null,
            "_view_module": "@jupyter-widgets/base",
            "_view_module_version": "1.2.0",
            "_view_name": "StyleView",
            "description_width": ""
          }
        },
        "3bb5725ead084125b9d10cb397439475": {
          "model_module": "@jupyter-widgets/controls",
          "model_name": "HBoxModel",
          "model_module_version": "1.5.0",
          "state": {
            "_dom_classes": [],
            "_model_module": "@jupyter-widgets/controls",
            "_model_module_version": "1.5.0",
            "_model_name": "HBoxModel",
            "_view_count": null,
            "_view_module": "@jupyter-widgets/controls",
            "_view_module_version": "1.5.0",
            "_view_name": "HBoxView",
            "box_style": "",
            "children": [
              "IPY_MODEL_d30ac5e563704e2a9134865f2dc577b5",
              "IPY_MODEL_427feabaeec044db8c55330d73b7ed85",
              "IPY_MODEL_976a1df4bbbb4f16b2693e203856ea4a"
            ],
            "layout": "IPY_MODEL_a66411b7bc8d4234812873c9b5f7d166"
          }
        },
        "d30ac5e563704e2a9134865f2dc577b5": {
          "model_module": "@jupyter-widgets/controls",
          "model_name": "HTMLModel",
          "model_module_version": "1.5.0",
          "state": {
            "_dom_classes": [],
            "_model_module": "@jupyter-widgets/controls",
            "_model_module_version": "1.5.0",
            "_model_name": "HTMLModel",
            "_view_count": null,
            "_view_module": "@jupyter-widgets/controls",
            "_view_module_version": "1.5.0",
            "_view_name": "HTMLView",
            "description": "",
            "description_tooltip": null,
            "layout": "IPY_MODEL_c39cdf2f64e94212b0bd2d80be2d66f3",
            "placeholder": "​",
            "style": "IPY_MODEL_ce99180690ec4c6880272653684eb3d3",
            "value": "Dl Size...: 100%"
          }
        },
        "427feabaeec044db8c55330d73b7ed85": {
          "model_module": "@jupyter-widgets/controls",
          "model_name": "FloatProgressModel",
          "model_module_version": "1.5.0",
          "state": {
            "_dom_classes": [],
            "_model_module": "@jupyter-widgets/controls",
            "_model_module_version": "1.5.0",
            "_model_name": "FloatProgressModel",
            "_view_count": null,
            "_view_module": "@jupyter-widgets/controls",
            "_view_module_version": "1.5.0",
            "_view_name": "ProgressView",
            "bar_style": "success",
            "description": "",
            "description_tooltip": null,
            "layout": "IPY_MODEL_cf03f9c73c554773823e36d6535120be",
            "max": 1,
            "min": 0,
            "orientation": "horizontal",
            "style": "IPY_MODEL_eab9b1f4e5c442a7bfbaa3b1425c359c",
            "value": 1
          }
        },
        "976a1df4bbbb4f16b2693e203856ea4a": {
          "model_module": "@jupyter-widgets/controls",
          "model_name": "HTMLModel",
          "model_module_version": "1.5.0",
          "state": {
            "_dom_classes": [],
            "_model_module": "@jupyter-widgets/controls",
            "_model_module_version": "1.5.0",
            "_model_name": "HTMLModel",
            "_view_count": null,
            "_view_module": "@jupyter-widgets/controls",
            "_view_module_version": "1.5.0",
            "_view_name": "HTMLView",
            "description": "",
            "description_tooltip": null,
            "layout": "IPY_MODEL_f1706069ccb648fcb708d242a6ae90e1",
            "placeholder": "​",
            "style": "IPY_MODEL_4df5fdb6ea454658af643e869890c09e",
            "value": " 10/10 [00:02&lt;00:00,  1.49s/ MiB]"
          }
        },
        "a66411b7bc8d4234812873c9b5f7d166": {
          "model_module": "@jupyter-widgets/base",
          "model_name": "LayoutModel",
          "model_module_version": "1.2.0",
          "state": {
            "_model_module": "@jupyter-widgets/base",
            "_model_module_version": "1.2.0",
            "_model_name": "LayoutModel",
            "_view_count": null,
            "_view_module": "@jupyter-widgets/base",
            "_view_module_version": "1.2.0",
            "_view_name": "LayoutView",
            "align_content": null,
            "align_items": null,
            "align_self": null,
            "border": null,
            "bottom": null,
            "display": null,
            "flex": null,
            "flex_flow": null,
            "grid_area": null,
            "grid_auto_columns": null,
            "grid_auto_flow": null,
            "grid_auto_rows": null,
            "grid_column": null,
            "grid_gap": null,
            "grid_row": null,
            "grid_template_areas": null,
            "grid_template_columns": null,
            "grid_template_rows": null,
            "height": null,
            "justify_content": null,
            "justify_items": null,
            "left": null,
            "margin": null,
            "max_height": null,
            "max_width": null,
            "min_height": null,
            "min_width": null,
            "object_fit": null,
            "object_position": null,
            "order": null,
            "overflow": null,
            "overflow_x": null,
            "overflow_y": null,
            "padding": null,
            "right": null,
            "top": null,
            "visibility": null,
            "width": null
          }
        },
        "c39cdf2f64e94212b0bd2d80be2d66f3": {
          "model_module": "@jupyter-widgets/base",
          "model_name": "LayoutModel",
          "model_module_version": "1.2.0",
          "state": {
            "_model_module": "@jupyter-widgets/base",
            "_model_module_version": "1.2.0",
            "_model_name": "LayoutModel",
            "_view_count": null,
            "_view_module": "@jupyter-widgets/base",
            "_view_module_version": "1.2.0",
            "_view_name": "LayoutView",
            "align_content": null,
            "align_items": null,
            "align_self": null,
            "border": null,
            "bottom": null,
            "display": null,
            "flex": null,
            "flex_flow": null,
            "grid_area": null,
            "grid_auto_columns": null,
            "grid_auto_flow": null,
            "grid_auto_rows": null,
            "grid_column": null,
            "grid_gap": null,
            "grid_row": null,
            "grid_template_areas": null,
            "grid_template_columns": null,
            "grid_template_rows": null,
            "height": null,
            "justify_content": null,
            "justify_items": null,
            "left": null,
            "margin": null,
            "max_height": null,
            "max_width": null,
            "min_height": null,
            "min_width": null,
            "object_fit": null,
            "object_position": null,
            "order": null,
            "overflow": null,
            "overflow_x": null,
            "overflow_y": null,
            "padding": null,
            "right": null,
            "top": null,
            "visibility": null,
            "width": null
          }
        },
        "ce99180690ec4c6880272653684eb3d3": {
          "model_module": "@jupyter-widgets/controls",
          "model_name": "DescriptionStyleModel",
          "model_module_version": "1.5.0",
          "state": {
            "_model_module": "@jupyter-widgets/controls",
            "_model_module_version": "1.5.0",
            "_model_name": "DescriptionStyleModel",
            "_view_count": null,
            "_view_module": "@jupyter-widgets/base",
            "_view_module_version": "1.2.0",
            "_view_name": "StyleView",
            "description_width": ""
          }
        },
        "cf03f9c73c554773823e36d6535120be": {
          "model_module": "@jupyter-widgets/base",
          "model_name": "LayoutModel",
          "model_module_version": "1.2.0",
          "state": {
            "_model_module": "@jupyter-widgets/base",
            "_model_module_version": "1.2.0",
            "_model_name": "LayoutModel",
            "_view_count": null,
            "_view_module": "@jupyter-widgets/base",
            "_view_module_version": "1.2.0",
            "_view_name": "LayoutView",
            "align_content": null,
            "align_items": null,
            "align_self": null,
            "border": null,
            "bottom": null,
            "display": null,
            "flex": null,
            "flex_flow": null,
            "grid_area": null,
            "grid_auto_columns": null,
            "grid_auto_flow": null,
            "grid_auto_rows": null,
            "grid_column": null,
            "grid_gap": null,
            "grid_row": null,
            "grid_template_areas": null,
            "grid_template_columns": null,
            "grid_template_rows": null,
            "height": null,
            "justify_content": null,
            "justify_items": null,
            "left": null,
            "margin": null,
            "max_height": null,
            "max_width": null,
            "min_height": null,
            "min_width": null,
            "object_fit": null,
            "object_position": null,
            "order": null,
            "overflow": null,
            "overflow_x": null,
            "overflow_y": null,
            "padding": null,
            "right": null,
            "top": null,
            "visibility": null,
            "width": "20px"
          }
        },
        "eab9b1f4e5c442a7bfbaa3b1425c359c": {
          "model_module": "@jupyter-widgets/controls",
          "model_name": "ProgressStyleModel",
          "model_module_version": "1.5.0",
          "state": {
            "_model_module": "@jupyter-widgets/controls",
            "_model_module_version": "1.5.0",
            "_model_name": "ProgressStyleModel",
            "_view_count": null,
            "_view_module": "@jupyter-widgets/base",
            "_view_module_version": "1.2.0",
            "_view_name": "StyleView",
            "bar_color": null,
            "description_width": ""
          }
        },
        "f1706069ccb648fcb708d242a6ae90e1": {
          "model_module": "@jupyter-widgets/base",
          "model_name": "LayoutModel",
          "model_module_version": "1.2.0",
          "state": {
            "_model_module": "@jupyter-widgets/base",
            "_model_module_version": "1.2.0",
            "_model_name": "LayoutModel",
            "_view_count": null,
            "_view_module": "@jupyter-widgets/base",
            "_view_module_version": "1.2.0",
            "_view_name": "LayoutView",
            "align_content": null,
            "align_items": null,
            "align_self": null,
            "border": null,
            "bottom": null,
            "display": null,
            "flex": null,
            "flex_flow": null,
            "grid_area": null,
            "grid_auto_columns": null,
            "grid_auto_flow": null,
            "grid_auto_rows": null,
            "grid_column": null,
            "grid_gap": null,
            "grid_row": null,
            "grid_template_areas": null,
            "grid_template_columns": null,
            "grid_template_rows": null,
            "height": null,
            "justify_content": null,
            "justify_items": null,
            "left": null,
            "margin": null,
            "max_height": null,
            "max_width": null,
            "min_height": null,
            "min_width": null,
            "object_fit": null,
            "object_position": null,
            "order": null,
            "overflow": null,
            "overflow_x": null,
            "overflow_y": null,
            "padding": null,
            "right": null,
            "top": null,
            "visibility": null,
            "width": null
          }
        },
        "4df5fdb6ea454658af643e869890c09e": {
          "model_module": "@jupyter-widgets/controls",
          "model_name": "DescriptionStyleModel",
          "model_module_version": "1.5.0",
          "state": {
            "_model_module": "@jupyter-widgets/controls",
            "_model_module_version": "1.5.0",
            "_model_name": "DescriptionStyleModel",
            "_view_count": null,
            "_view_module": "@jupyter-widgets/base",
            "_view_module_version": "1.2.0",
            "_view_name": "StyleView",
            "description_width": ""
          }
        },
        "9f29c83d7ece41659510a767c0e45d85": {
          "model_module": "@jupyter-widgets/controls",
          "model_name": "HBoxModel",
          "model_module_version": "1.5.0",
          "state": {
            "_dom_classes": [],
            "_model_module": "@jupyter-widgets/controls",
            "_model_module_version": "1.5.0",
            "_model_name": "HBoxModel",
            "_view_count": null,
            "_view_module": "@jupyter-widgets/controls",
            "_view_module_version": "1.5.0",
            "_view_name": "HBoxView",
            "box_style": "",
            "children": [
              "IPY_MODEL_1080be189c34484aa5003f662511d152",
              "IPY_MODEL_4cd1e05e48b74d379ef857c4c7669a78",
              "IPY_MODEL_1a930a57277b4f9cbd61df6d13786b8f"
            ],
            "layout": "IPY_MODEL_ec6725b4391842dba2b235583b36f480"
          }
        },
        "1080be189c34484aa5003f662511d152": {
          "model_module": "@jupyter-widgets/controls",
          "model_name": "HTMLModel",
          "model_module_version": "1.5.0",
          "state": {
            "_dom_classes": [],
            "_model_module": "@jupyter-widgets/controls",
            "_model_module_version": "1.5.0",
            "_model_name": "HTMLModel",
            "_view_count": null,
            "_view_module": "@jupyter-widgets/controls",
            "_view_module_version": "1.5.0",
            "_view_name": "HTMLView",
            "description": "",
            "description_tooltip": null,
            "layout": "IPY_MODEL_d1590234a81146809d46a07d25e5b2be",
            "placeholder": "​",
            "style": "IPY_MODEL_bb7844875d384b108bf00acb516d4eb2",
            "value": "Extraction completed...: 100%"
          }
        },
        "4cd1e05e48b74d379ef857c4c7669a78": {
          "model_module": "@jupyter-widgets/controls",
          "model_name": "FloatProgressModel",
          "model_module_version": "1.5.0",
          "state": {
            "_dom_classes": [],
            "_model_module": "@jupyter-widgets/controls",
            "_model_module_version": "1.5.0",
            "_model_name": "FloatProgressModel",
            "_view_count": null,
            "_view_module": "@jupyter-widgets/controls",
            "_view_module_version": "1.5.0",
            "_view_name": "ProgressView",
            "bar_style": "success",
            "description": "",
            "description_tooltip": null,
            "layout": "IPY_MODEL_5232f7c5361440ca90a26f648b4a7295",
            "max": 1,
            "min": 0,
            "orientation": "horizontal",
            "style": "IPY_MODEL_f881fa6893f5414aa9b93dca134f8806",
            "value": 1
          }
        },
        "1a930a57277b4f9cbd61df6d13786b8f": {
          "model_module": "@jupyter-widgets/controls",
          "model_name": "HTMLModel",
          "model_module_version": "1.5.0",
          "state": {
            "_dom_classes": [],
            "_model_module": "@jupyter-widgets/controls",
            "_model_module_version": "1.5.0",
            "_model_name": "HTMLModel",
            "_view_count": null,
            "_view_module": "@jupyter-widgets/controls",
            "_view_module_version": "1.5.0",
            "_view_name": "HTMLView",
            "description": "",
            "description_tooltip": null,
            "layout": "IPY_MODEL_3ec6f96362ba4247b320dc42c995d749",
            "placeholder": "​",
            "style": "IPY_MODEL_7c5cf4669a774c6c8325234a386df4c8",
            "value": " 4/4 [00:02&lt;00:00,  1.81 file/s]"
          }
        },
        "ec6725b4391842dba2b235583b36f480": {
          "model_module": "@jupyter-widgets/base",
          "model_name": "LayoutModel",
          "model_module_version": "1.2.0",
          "state": {
            "_model_module": "@jupyter-widgets/base",
            "_model_module_version": "1.2.0",
            "_model_name": "LayoutModel",
            "_view_count": null,
            "_view_module": "@jupyter-widgets/base",
            "_view_module_version": "1.2.0",
            "_view_name": "LayoutView",
            "align_content": null,
            "align_items": null,
            "align_self": null,
            "border": null,
            "bottom": null,
            "display": null,
            "flex": null,
            "flex_flow": null,
            "grid_area": null,
            "grid_auto_columns": null,
            "grid_auto_flow": null,
            "grid_auto_rows": null,
            "grid_column": null,
            "grid_gap": null,
            "grid_row": null,
            "grid_template_areas": null,
            "grid_template_columns": null,
            "grid_template_rows": null,
            "height": null,
            "justify_content": null,
            "justify_items": null,
            "left": null,
            "margin": null,
            "max_height": null,
            "max_width": null,
            "min_height": null,
            "min_width": null,
            "object_fit": null,
            "object_position": null,
            "order": null,
            "overflow": null,
            "overflow_x": null,
            "overflow_y": null,
            "padding": null,
            "right": null,
            "top": null,
            "visibility": null,
            "width": null
          }
        },
        "d1590234a81146809d46a07d25e5b2be": {
          "model_module": "@jupyter-widgets/base",
          "model_name": "LayoutModel",
          "model_module_version": "1.2.0",
          "state": {
            "_model_module": "@jupyter-widgets/base",
            "_model_module_version": "1.2.0",
            "_model_name": "LayoutModel",
            "_view_count": null,
            "_view_module": "@jupyter-widgets/base",
            "_view_module_version": "1.2.0",
            "_view_name": "LayoutView",
            "align_content": null,
            "align_items": null,
            "align_self": null,
            "border": null,
            "bottom": null,
            "display": null,
            "flex": null,
            "flex_flow": null,
            "grid_area": null,
            "grid_auto_columns": null,
            "grid_auto_flow": null,
            "grid_auto_rows": null,
            "grid_column": null,
            "grid_gap": null,
            "grid_row": null,
            "grid_template_areas": null,
            "grid_template_columns": null,
            "grid_template_rows": null,
            "height": null,
            "justify_content": null,
            "justify_items": null,
            "left": null,
            "margin": null,
            "max_height": null,
            "max_width": null,
            "min_height": null,
            "min_width": null,
            "object_fit": null,
            "object_position": null,
            "order": null,
            "overflow": null,
            "overflow_x": null,
            "overflow_y": null,
            "padding": null,
            "right": null,
            "top": null,
            "visibility": null,
            "width": null
          }
        },
        "bb7844875d384b108bf00acb516d4eb2": {
          "model_module": "@jupyter-widgets/controls",
          "model_name": "DescriptionStyleModel",
          "model_module_version": "1.5.0",
          "state": {
            "_model_module": "@jupyter-widgets/controls",
            "_model_module_version": "1.5.0",
            "_model_name": "DescriptionStyleModel",
            "_view_count": null,
            "_view_module": "@jupyter-widgets/base",
            "_view_module_version": "1.2.0",
            "_view_name": "StyleView",
            "description_width": ""
          }
        },
        "5232f7c5361440ca90a26f648b4a7295": {
          "model_module": "@jupyter-widgets/base",
          "model_name": "LayoutModel",
          "model_module_version": "1.2.0",
          "state": {
            "_model_module": "@jupyter-widgets/base",
            "_model_module_version": "1.2.0",
            "_model_name": "LayoutModel",
            "_view_count": null,
            "_view_module": "@jupyter-widgets/base",
            "_view_module_version": "1.2.0",
            "_view_name": "LayoutView",
            "align_content": null,
            "align_items": null,
            "align_self": null,
            "border": null,
            "bottom": null,
            "display": null,
            "flex": null,
            "flex_flow": null,
            "grid_area": null,
            "grid_auto_columns": null,
            "grid_auto_flow": null,
            "grid_auto_rows": null,
            "grid_column": null,
            "grid_gap": null,
            "grid_row": null,
            "grid_template_areas": null,
            "grid_template_columns": null,
            "grid_template_rows": null,
            "height": null,
            "justify_content": null,
            "justify_items": null,
            "left": null,
            "margin": null,
            "max_height": null,
            "max_width": null,
            "min_height": null,
            "min_width": null,
            "object_fit": null,
            "object_position": null,
            "order": null,
            "overflow": null,
            "overflow_x": null,
            "overflow_y": null,
            "padding": null,
            "right": null,
            "top": null,
            "visibility": null,
            "width": "20px"
          }
        },
        "f881fa6893f5414aa9b93dca134f8806": {
          "model_module": "@jupyter-widgets/controls",
          "model_name": "ProgressStyleModel",
          "model_module_version": "1.5.0",
          "state": {
            "_model_module": "@jupyter-widgets/controls",
            "_model_module_version": "1.5.0",
            "_model_name": "ProgressStyleModel",
            "_view_count": null,
            "_view_module": "@jupyter-widgets/base",
            "_view_module_version": "1.2.0",
            "_view_name": "StyleView",
            "bar_color": null,
            "description_width": ""
          }
        },
        "3ec6f96362ba4247b320dc42c995d749": {
          "model_module": "@jupyter-widgets/base",
          "model_name": "LayoutModel",
          "model_module_version": "1.2.0",
          "state": {
            "_model_module": "@jupyter-widgets/base",
            "_model_module_version": "1.2.0",
            "_model_name": "LayoutModel",
            "_view_count": null,
            "_view_module": "@jupyter-widgets/base",
            "_view_module_version": "1.2.0",
            "_view_name": "LayoutView",
            "align_content": null,
            "align_items": null,
            "align_self": null,
            "border": null,
            "bottom": null,
            "display": null,
            "flex": null,
            "flex_flow": null,
            "grid_area": null,
            "grid_auto_columns": null,
            "grid_auto_flow": null,
            "grid_auto_rows": null,
            "grid_column": null,
            "grid_gap": null,
            "grid_row": null,
            "grid_template_areas": null,
            "grid_template_columns": null,
            "grid_template_rows": null,
            "height": null,
            "justify_content": null,
            "justify_items": null,
            "left": null,
            "margin": null,
            "max_height": null,
            "max_width": null,
            "min_height": null,
            "min_width": null,
            "object_fit": null,
            "object_position": null,
            "order": null,
            "overflow": null,
            "overflow_x": null,
            "overflow_y": null,
            "padding": null,
            "right": null,
            "top": null,
            "visibility": null,
            "width": null
          }
        },
        "7c5cf4669a774c6c8325234a386df4c8": {
          "model_module": "@jupyter-widgets/controls",
          "model_name": "DescriptionStyleModel",
          "model_module_version": "1.5.0",
          "state": {
            "_model_module": "@jupyter-widgets/controls",
            "_model_module_version": "1.5.0",
            "_model_name": "DescriptionStyleModel",
            "_view_count": null,
            "_view_module": "@jupyter-widgets/base",
            "_view_module_version": "1.2.0",
            "_view_name": "StyleView",
            "description_width": ""
          }
        },
        "9472ffab64224ec1b604d01d596be6c5": {
          "model_module": "@jupyter-widgets/controls",
          "model_name": "HBoxModel",
          "model_module_version": "1.5.0",
          "state": {
            "_dom_classes": [],
            "_model_module": "@jupyter-widgets/controls",
            "_model_module_version": "1.5.0",
            "_model_name": "HBoxModel",
            "_view_count": null,
            "_view_module": "@jupyter-widgets/controls",
            "_view_module_version": "1.5.0",
            "_view_name": "HBoxView",
            "box_style": "",
            "children": [
              "IPY_MODEL_ca6125ead448432eb673f8c83d509b85",
              "IPY_MODEL_256ad879c8d443e9ac36b48e65b01a4b",
              "IPY_MODEL_fd8f370997db421a9c3c693e1af0eb69"
            ],
            "layout": "IPY_MODEL_3faf9ba355ec4df9a0e13436fd140cfd"
          }
        },
        "ca6125ead448432eb673f8c83d509b85": {
          "model_module": "@jupyter-widgets/controls",
          "model_name": "HTMLModel",
          "model_module_version": "1.5.0",
          "state": {
            "_dom_classes": [],
            "_model_module": "@jupyter-widgets/controls",
            "_model_module_version": "1.5.0",
            "_model_name": "HTMLModel",
            "_view_count": null,
            "_view_module": "@jupyter-widgets/controls",
            "_view_module_version": "1.5.0",
            "_view_name": "HTMLView",
            "description": "",
            "description_tooltip": null,
            "layout": "IPY_MODEL_5dc8baa66743410dbd661c7bc0230a24",
            "placeholder": "​",
            "style": "IPY_MODEL_32aa6944b1624c869e1fe32dff9a8927",
            "value": "Generating splits...: 100%"
          }
        },
        "256ad879c8d443e9ac36b48e65b01a4b": {
          "model_module": "@jupyter-widgets/controls",
          "model_name": "FloatProgressModel",
          "model_module_version": "1.5.0",
          "state": {
            "_dom_classes": [],
            "_model_module": "@jupyter-widgets/controls",
            "_model_module_version": "1.5.0",
            "_model_name": "FloatProgressModel",
            "_view_count": null,
            "_view_module": "@jupyter-widgets/controls",
            "_view_module_version": "1.5.0",
            "_view_name": "ProgressView",
            "bar_style": "",
            "description": "",
            "description_tooltip": null,
            "layout": "IPY_MODEL_500ea87ec0c24827ad9f54d3f4bf22ba",
            "max": 2,
            "min": 0,
            "orientation": "horizontal",
            "style": "IPY_MODEL_70a27b4cd6564578bf90e484ad921db7",
            "value": 2
          }
        },
        "fd8f370997db421a9c3c693e1af0eb69": {
          "model_module": "@jupyter-widgets/controls",
          "model_name": "HTMLModel",
          "model_module_version": "1.5.0",
          "state": {
            "_dom_classes": [],
            "_model_module": "@jupyter-widgets/controls",
            "_model_module_version": "1.5.0",
            "_model_name": "HTMLModel",
            "_view_count": null,
            "_view_module": "@jupyter-widgets/controls",
            "_view_module_version": "1.5.0",
            "_view_name": "HTMLView",
            "description": "",
            "description_tooltip": null,
            "layout": "IPY_MODEL_b49d417df48f413c8d1897fdfb40b23e",
            "placeholder": "​",
            "style": "IPY_MODEL_af6c8357e80a4d8ba03f2395606accb9",
            "value": " 2/2 [00:28&lt;00:00, 12.42s/ splits]"
          }
        },
        "3faf9ba355ec4df9a0e13436fd140cfd": {
          "model_module": "@jupyter-widgets/base",
          "model_name": "LayoutModel",
          "model_module_version": "1.2.0",
          "state": {
            "_model_module": "@jupyter-widgets/base",
            "_model_module_version": "1.2.0",
            "_model_name": "LayoutModel",
            "_view_count": null,
            "_view_module": "@jupyter-widgets/base",
            "_view_module_version": "1.2.0",
            "_view_name": "LayoutView",
            "align_content": null,
            "align_items": null,
            "align_self": null,
            "border": null,
            "bottom": null,
            "display": null,
            "flex": null,
            "flex_flow": null,
            "grid_area": null,
            "grid_auto_columns": null,
            "grid_auto_flow": null,
            "grid_auto_rows": null,
            "grid_column": null,
            "grid_gap": null,
            "grid_row": null,
            "grid_template_areas": null,
            "grid_template_columns": null,
            "grid_template_rows": null,
            "height": null,
            "justify_content": null,
            "justify_items": null,
            "left": null,
            "margin": null,
            "max_height": null,
            "max_width": null,
            "min_height": null,
            "min_width": null,
            "object_fit": null,
            "object_position": null,
            "order": null,
            "overflow": null,
            "overflow_x": null,
            "overflow_y": null,
            "padding": null,
            "right": null,
            "top": null,
            "visibility": "hidden",
            "width": null
          }
        },
        "5dc8baa66743410dbd661c7bc0230a24": {
          "model_module": "@jupyter-widgets/base",
          "model_name": "LayoutModel",
          "model_module_version": "1.2.0",
          "state": {
            "_model_module": "@jupyter-widgets/base",
            "_model_module_version": "1.2.0",
            "_model_name": "LayoutModel",
            "_view_count": null,
            "_view_module": "@jupyter-widgets/base",
            "_view_module_version": "1.2.0",
            "_view_name": "LayoutView",
            "align_content": null,
            "align_items": null,
            "align_self": null,
            "border": null,
            "bottom": null,
            "display": null,
            "flex": null,
            "flex_flow": null,
            "grid_area": null,
            "grid_auto_columns": null,
            "grid_auto_flow": null,
            "grid_auto_rows": null,
            "grid_column": null,
            "grid_gap": null,
            "grid_row": null,
            "grid_template_areas": null,
            "grid_template_columns": null,
            "grid_template_rows": null,
            "height": null,
            "justify_content": null,
            "justify_items": null,
            "left": null,
            "margin": null,
            "max_height": null,
            "max_width": null,
            "min_height": null,
            "min_width": null,
            "object_fit": null,
            "object_position": null,
            "order": null,
            "overflow": null,
            "overflow_x": null,
            "overflow_y": null,
            "padding": null,
            "right": null,
            "top": null,
            "visibility": null,
            "width": null
          }
        },
        "32aa6944b1624c869e1fe32dff9a8927": {
          "model_module": "@jupyter-widgets/controls",
          "model_name": "DescriptionStyleModel",
          "model_module_version": "1.5.0",
          "state": {
            "_model_module": "@jupyter-widgets/controls",
            "_model_module_version": "1.5.0",
            "_model_name": "DescriptionStyleModel",
            "_view_count": null,
            "_view_module": "@jupyter-widgets/base",
            "_view_module_version": "1.2.0",
            "_view_name": "StyleView",
            "description_width": ""
          }
        },
        "500ea87ec0c24827ad9f54d3f4bf22ba": {
          "model_module": "@jupyter-widgets/base",
          "model_name": "LayoutModel",
          "model_module_version": "1.2.0",
          "state": {
            "_model_module": "@jupyter-widgets/base",
            "_model_module_version": "1.2.0",
            "_model_name": "LayoutModel",
            "_view_count": null,
            "_view_module": "@jupyter-widgets/base",
            "_view_module_version": "1.2.0",
            "_view_name": "LayoutView",
            "align_content": null,
            "align_items": null,
            "align_self": null,
            "border": null,
            "bottom": null,
            "display": null,
            "flex": null,
            "flex_flow": null,
            "grid_area": null,
            "grid_auto_columns": null,
            "grid_auto_flow": null,
            "grid_auto_rows": null,
            "grid_column": null,
            "grid_gap": null,
            "grid_row": null,
            "grid_template_areas": null,
            "grid_template_columns": null,
            "grid_template_rows": null,
            "height": null,
            "justify_content": null,
            "justify_items": null,
            "left": null,
            "margin": null,
            "max_height": null,
            "max_width": null,
            "min_height": null,
            "min_width": null,
            "object_fit": null,
            "object_position": null,
            "order": null,
            "overflow": null,
            "overflow_x": null,
            "overflow_y": null,
            "padding": null,
            "right": null,
            "top": null,
            "visibility": null,
            "width": null
          }
        },
        "70a27b4cd6564578bf90e484ad921db7": {
          "model_module": "@jupyter-widgets/controls",
          "model_name": "ProgressStyleModel",
          "model_module_version": "1.5.0",
          "state": {
            "_model_module": "@jupyter-widgets/controls",
            "_model_module_version": "1.5.0",
            "_model_name": "ProgressStyleModel",
            "_view_count": null,
            "_view_module": "@jupyter-widgets/base",
            "_view_module_version": "1.2.0",
            "_view_name": "StyleView",
            "bar_color": null,
            "description_width": ""
          }
        },
        "b49d417df48f413c8d1897fdfb40b23e": {
          "model_module": "@jupyter-widgets/base",
          "model_name": "LayoutModel",
          "model_module_version": "1.2.0",
          "state": {
            "_model_module": "@jupyter-widgets/base",
            "_model_module_version": "1.2.0",
            "_model_name": "LayoutModel",
            "_view_count": null,
            "_view_module": "@jupyter-widgets/base",
            "_view_module_version": "1.2.0",
            "_view_name": "LayoutView",
            "align_content": null,
            "align_items": null,
            "align_self": null,
            "border": null,
            "bottom": null,
            "display": null,
            "flex": null,
            "flex_flow": null,
            "grid_area": null,
            "grid_auto_columns": null,
            "grid_auto_flow": null,
            "grid_auto_rows": null,
            "grid_column": null,
            "grid_gap": null,
            "grid_row": null,
            "grid_template_areas": null,
            "grid_template_columns": null,
            "grid_template_rows": null,
            "height": null,
            "justify_content": null,
            "justify_items": null,
            "left": null,
            "margin": null,
            "max_height": null,
            "max_width": null,
            "min_height": null,
            "min_width": null,
            "object_fit": null,
            "object_position": null,
            "order": null,
            "overflow": null,
            "overflow_x": null,
            "overflow_y": null,
            "padding": null,
            "right": null,
            "top": null,
            "visibility": null,
            "width": null
          }
        },
        "af6c8357e80a4d8ba03f2395606accb9": {
          "model_module": "@jupyter-widgets/controls",
          "model_name": "DescriptionStyleModel",
          "model_module_version": "1.5.0",
          "state": {
            "_model_module": "@jupyter-widgets/controls",
            "_model_module_version": "1.5.0",
            "_model_name": "DescriptionStyleModel",
            "_view_count": null,
            "_view_module": "@jupyter-widgets/base",
            "_view_module_version": "1.2.0",
            "_view_name": "StyleView",
            "description_width": ""
          }
        },
        "6f3c3bf0448f48658d304e45586a9548": {
          "model_module": "@jupyter-widgets/controls",
          "model_name": "HBoxModel",
          "model_module_version": "1.5.0",
          "state": {
            "_dom_classes": [],
            "_model_module": "@jupyter-widgets/controls",
            "_model_module_version": "1.5.0",
            "_model_name": "HBoxModel",
            "_view_count": null,
            "_view_module": "@jupyter-widgets/controls",
            "_view_module_version": "1.5.0",
            "_view_name": "HBoxView",
            "box_style": "",
            "children": [
              "IPY_MODEL_6aecfebf22de4f9db1705ff3898202ec",
              "IPY_MODEL_32253e9852a84b48a3edc646d934652c",
              "IPY_MODEL_6678236b87af47f89e4245e3bc84b61e"
            ],
            "layout": "IPY_MODEL_cc5fb9eff9b145239c78768533880743"
          }
        },
        "6aecfebf22de4f9db1705ff3898202ec": {
          "model_module": "@jupyter-widgets/controls",
          "model_name": "HTMLModel",
          "model_module_version": "1.5.0",
          "state": {
            "_dom_classes": [],
            "_model_module": "@jupyter-widgets/controls",
            "_model_module_version": "1.5.0",
            "_model_name": "HTMLModel",
            "_view_count": null,
            "_view_module": "@jupyter-widgets/controls",
            "_view_module_version": "1.5.0",
            "_view_name": "HTMLView",
            "description": "",
            "description_tooltip": null,
            "layout": "IPY_MODEL_6ec03878714549c0831d20cfdaec4d47",
            "placeholder": "​",
            "style": "IPY_MODEL_76da99f25d464167817b0bb392dbd0d2",
            "value": "Generating train examples...: "
          }
        },
        "32253e9852a84b48a3edc646d934652c": {
          "model_module": "@jupyter-widgets/controls",
          "model_name": "FloatProgressModel",
          "model_module_version": "1.5.0",
          "state": {
            "_dom_classes": [],
            "_model_module": "@jupyter-widgets/controls",
            "_model_module_version": "1.5.0",
            "_model_name": "FloatProgressModel",
            "_view_count": null,
            "_view_module": "@jupyter-widgets/controls",
            "_view_module_version": "1.5.0",
            "_view_name": "ProgressView",
            "bar_style": "info",
            "description": "",
            "description_tooltip": null,
            "layout": "IPY_MODEL_7eb72232f1a243ff9f936cc20fd542b0",
            "max": 1,
            "min": 0,
            "orientation": "horizontal",
            "style": "IPY_MODEL_76902d0378d94f2c8e409dc9bee54596",
            "value": 1
          }
        },
        "6678236b87af47f89e4245e3bc84b61e": {
          "model_module": "@jupyter-widgets/controls",
          "model_name": "HTMLModel",
          "model_module_version": "1.5.0",
          "state": {
            "_dom_classes": [],
            "_model_module": "@jupyter-widgets/controls",
            "_model_module_version": "1.5.0",
            "_model_name": "HTMLModel",
            "_view_count": null,
            "_view_module": "@jupyter-widgets/controls",
            "_view_module_version": "1.5.0",
            "_view_name": "HTMLView",
            "description": "",
            "description_tooltip": null,
            "layout": "IPY_MODEL_966aae7ebd7247019845eeea94ebed8b",
            "placeholder": "​",
            "style": "IPY_MODEL_a5036573911d4649a1542e4b842f3e84",
            "value": " 57745/? [00:23&lt;00:00, 2535.58 examples/s]"
          }
        },
        "cc5fb9eff9b145239c78768533880743": {
          "model_module": "@jupyter-widgets/base",
          "model_name": "LayoutModel",
          "model_module_version": "1.2.0",
          "state": {
            "_model_module": "@jupyter-widgets/base",
            "_model_module_version": "1.2.0",
            "_model_name": "LayoutModel",
            "_view_count": null,
            "_view_module": "@jupyter-widgets/base",
            "_view_module_version": "1.2.0",
            "_view_name": "LayoutView",
            "align_content": null,
            "align_items": null,
            "align_self": null,
            "border": null,
            "bottom": null,
            "display": null,
            "flex": null,
            "flex_flow": null,
            "grid_area": null,
            "grid_auto_columns": null,
            "grid_auto_flow": null,
            "grid_auto_rows": null,
            "grid_column": null,
            "grid_gap": null,
            "grid_row": null,
            "grid_template_areas": null,
            "grid_template_columns": null,
            "grid_template_rows": null,
            "height": null,
            "justify_content": null,
            "justify_items": null,
            "left": null,
            "margin": null,
            "max_height": null,
            "max_width": null,
            "min_height": null,
            "min_width": null,
            "object_fit": null,
            "object_position": null,
            "order": null,
            "overflow": null,
            "overflow_x": null,
            "overflow_y": null,
            "padding": null,
            "right": null,
            "top": null,
            "visibility": "hidden",
            "width": null
          }
        },
        "6ec03878714549c0831d20cfdaec4d47": {
          "model_module": "@jupyter-widgets/base",
          "model_name": "LayoutModel",
          "model_module_version": "1.2.0",
          "state": {
            "_model_module": "@jupyter-widgets/base",
            "_model_module_version": "1.2.0",
            "_model_name": "LayoutModel",
            "_view_count": null,
            "_view_module": "@jupyter-widgets/base",
            "_view_module_version": "1.2.0",
            "_view_name": "LayoutView",
            "align_content": null,
            "align_items": null,
            "align_self": null,
            "border": null,
            "bottom": null,
            "display": null,
            "flex": null,
            "flex_flow": null,
            "grid_area": null,
            "grid_auto_columns": null,
            "grid_auto_flow": null,
            "grid_auto_rows": null,
            "grid_column": null,
            "grid_gap": null,
            "grid_row": null,
            "grid_template_areas": null,
            "grid_template_columns": null,
            "grid_template_rows": null,
            "height": null,
            "justify_content": null,
            "justify_items": null,
            "left": null,
            "margin": null,
            "max_height": null,
            "max_width": null,
            "min_height": null,
            "min_width": null,
            "object_fit": null,
            "object_position": null,
            "order": null,
            "overflow": null,
            "overflow_x": null,
            "overflow_y": null,
            "padding": null,
            "right": null,
            "top": null,
            "visibility": null,
            "width": null
          }
        },
        "76da99f25d464167817b0bb392dbd0d2": {
          "model_module": "@jupyter-widgets/controls",
          "model_name": "DescriptionStyleModel",
          "model_module_version": "1.5.0",
          "state": {
            "_model_module": "@jupyter-widgets/controls",
            "_model_module_version": "1.5.0",
            "_model_name": "DescriptionStyleModel",
            "_view_count": null,
            "_view_module": "@jupyter-widgets/base",
            "_view_module_version": "1.2.0",
            "_view_name": "StyleView",
            "description_width": ""
          }
        },
        "7eb72232f1a243ff9f936cc20fd542b0": {
          "model_module": "@jupyter-widgets/base",
          "model_name": "LayoutModel",
          "model_module_version": "1.2.0",
          "state": {
            "_model_module": "@jupyter-widgets/base",
            "_model_module_version": "1.2.0",
            "_model_name": "LayoutModel",
            "_view_count": null,
            "_view_module": "@jupyter-widgets/base",
            "_view_module_version": "1.2.0",
            "_view_name": "LayoutView",
            "align_content": null,
            "align_items": null,
            "align_self": null,
            "border": null,
            "bottom": null,
            "display": null,
            "flex": null,
            "flex_flow": null,
            "grid_area": null,
            "grid_auto_columns": null,
            "grid_auto_flow": null,
            "grid_auto_rows": null,
            "grid_column": null,
            "grid_gap": null,
            "grid_row": null,
            "grid_template_areas": null,
            "grid_template_columns": null,
            "grid_template_rows": null,
            "height": null,
            "justify_content": null,
            "justify_items": null,
            "left": null,
            "margin": null,
            "max_height": null,
            "max_width": null,
            "min_height": null,
            "min_width": null,
            "object_fit": null,
            "object_position": null,
            "order": null,
            "overflow": null,
            "overflow_x": null,
            "overflow_y": null,
            "padding": null,
            "right": null,
            "top": null,
            "visibility": null,
            "width": "20px"
          }
        },
        "76902d0378d94f2c8e409dc9bee54596": {
          "model_module": "@jupyter-widgets/controls",
          "model_name": "ProgressStyleModel",
          "model_module_version": "1.5.0",
          "state": {
            "_model_module": "@jupyter-widgets/controls",
            "_model_module_version": "1.5.0",
            "_model_name": "ProgressStyleModel",
            "_view_count": null,
            "_view_module": "@jupyter-widgets/base",
            "_view_module_version": "1.2.0",
            "_view_name": "StyleView",
            "bar_color": null,
            "description_width": ""
          }
        },
        "966aae7ebd7247019845eeea94ebed8b": {
          "model_module": "@jupyter-widgets/base",
          "model_name": "LayoutModel",
          "model_module_version": "1.2.0",
          "state": {
            "_model_module": "@jupyter-widgets/base",
            "_model_module_version": "1.2.0",
            "_model_name": "LayoutModel",
            "_view_count": null,
            "_view_module": "@jupyter-widgets/base",
            "_view_module_version": "1.2.0",
            "_view_name": "LayoutView",
            "align_content": null,
            "align_items": null,
            "align_self": null,
            "border": null,
            "bottom": null,
            "display": null,
            "flex": null,
            "flex_flow": null,
            "grid_area": null,
            "grid_auto_columns": null,
            "grid_auto_flow": null,
            "grid_auto_rows": null,
            "grid_column": null,
            "grid_gap": null,
            "grid_row": null,
            "grid_template_areas": null,
            "grid_template_columns": null,
            "grid_template_rows": null,
            "height": null,
            "justify_content": null,
            "justify_items": null,
            "left": null,
            "margin": null,
            "max_height": null,
            "max_width": null,
            "min_height": null,
            "min_width": null,
            "object_fit": null,
            "object_position": null,
            "order": null,
            "overflow": null,
            "overflow_x": null,
            "overflow_y": null,
            "padding": null,
            "right": null,
            "top": null,
            "visibility": null,
            "width": null
          }
        },
        "a5036573911d4649a1542e4b842f3e84": {
          "model_module": "@jupyter-widgets/controls",
          "model_name": "DescriptionStyleModel",
          "model_module_version": "1.5.0",
          "state": {
            "_model_module": "@jupyter-widgets/controls",
            "_model_module_version": "1.5.0",
            "_model_name": "DescriptionStyleModel",
            "_view_count": null,
            "_view_module": "@jupyter-widgets/base",
            "_view_module_version": "1.2.0",
            "_view_name": "StyleView",
            "description_width": ""
          }
        },
        "6e8b5e5ab78d4bc7b65f52d52431cb08": {
          "model_module": "@jupyter-widgets/controls",
          "model_name": "HBoxModel",
          "model_module_version": "1.5.0",
          "state": {
            "_dom_classes": [],
            "_model_module": "@jupyter-widgets/controls",
            "_model_module_version": "1.5.0",
            "_model_name": "HBoxModel",
            "_view_count": null,
            "_view_module": "@jupyter-widgets/controls",
            "_view_module_version": "1.5.0",
            "_view_name": "HBoxView",
            "box_style": "",
            "children": [
              "IPY_MODEL_641e81f10e3a452baf608af1b6b161ac",
              "IPY_MODEL_f37cb7e272e34bee99c8dcfae3201258",
              "IPY_MODEL_784395661b6f45cd8ca9d50aadac68e7"
            ],
            "layout": "IPY_MODEL_cb3e3ca5a75249dcb0c9799086ee0fbb"
          }
        },
        "641e81f10e3a452baf608af1b6b161ac": {
          "model_module": "@jupyter-widgets/controls",
          "model_name": "HTMLModel",
          "model_module_version": "1.5.0",
          "state": {
            "_dom_classes": [],
            "_model_module": "@jupyter-widgets/controls",
            "_model_module_version": "1.5.0",
            "_model_name": "HTMLModel",
            "_view_count": null,
            "_view_module": "@jupyter-widgets/controls",
            "_view_module_version": "1.5.0",
            "_view_name": "HTMLView",
            "description": "",
            "description_tooltip": null,
            "layout": "IPY_MODEL_4f52b60327604519961b7c7bf5b36855",
            "placeholder": "​",
            "style": "IPY_MODEL_cb77a41e1f3f486a9149d093391a82c8",
            "value": "Shuffling /root/tensorflow_datasets/mnist/incomplete.6DXZ0D_3.0.1/mnist-train.tfrecord*...:   0%"
          }
        },
        "f37cb7e272e34bee99c8dcfae3201258": {
          "model_module": "@jupyter-widgets/controls",
          "model_name": "FloatProgressModel",
          "model_module_version": "1.5.0",
          "state": {
            "_dom_classes": [],
            "_model_module": "@jupyter-widgets/controls",
            "_model_module_version": "1.5.0",
            "_model_name": "FloatProgressModel",
            "_view_count": null,
            "_view_module": "@jupyter-widgets/controls",
            "_view_module_version": "1.5.0",
            "_view_name": "ProgressView",
            "bar_style": "",
            "description": "",
            "description_tooltip": null,
            "layout": "IPY_MODEL_a969763444e047d8a34da7c6607afcee",
            "max": 60000,
            "min": 0,
            "orientation": "horizontal",
            "style": "IPY_MODEL_ff34eb8053254d699d56a22c62be6ddd",
            "value": 60000
          }
        },
        "784395661b6f45cd8ca9d50aadac68e7": {
          "model_module": "@jupyter-widgets/controls",
          "model_name": "HTMLModel",
          "model_module_version": "1.5.0",
          "state": {
            "_dom_classes": [],
            "_model_module": "@jupyter-widgets/controls",
            "_model_module_version": "1.5.0",
            "_model_name": "HTMLModel",
            "_view_count": null,
            "_view_module": "@jupyter-widgets/controls",
            "_view_module_version": "1.5.0",
            "_view_name": "HTMLView",
            "description": "",
            "description_tooltip": null,
            "layout": "IPY_MODEL_6716ed7d0933411dae9f3823407964cb",
            "placeholder": "​",
            "style": "IPY_MODEL_6da0feef12cc4b29b3b831235d79773c",
            "value": " 0/60000 [00:00&lt;?, ? examples/s]"
          }
        },
        "cb3e3ca5a75249dcb0c9799086ee0fbb": {
          "model_module": "@jupyter-widgets/base",
          "model_name": "LayoutModel",
          "model_module_version": "1.2.0",
          "state": {
            "_model_module": "@jupyter-widgets/base",
            "_model_module_version": "1.2.0",
            "_model_name": "LayoutModel",
            "_view_count": null,
            "_view_module": "@jupyter-widgets/base",
            "_view_module_version": "1.2.0",
            "_view_name": "LayoutView",
            "align_content": null,
            "align_items": null,
            "align_self": null,
            "border": null,
            "bottom": null,
            "display": null,
            "flex": null,
            "flex_flow": null,
            "grid_area": null,
            "grid_auto_columns": null,
            "grid_auto_flow": null,
            "grid_auto_rows": null,
            "grid_column": null,
            "grid_gap": null,
            "grid_row": null,
            "grid_template_areas": null,
            "grid_template_columns": null,
            "grid_template_rows": null,
            "height": null,
            "justify_content": null,
            "justify_items": null,
            "left": null,
            "margin": null,
            "max_height": null,
            "max_width": null,
            "min_height": null,
            "min_width": null,
            "object_fit": null,
            "object_position": null,
            "order": null,
            "overflow": null,
            "overflow_x": null,
            "overflow_y": null,
            "padding": null,
            "right": null,
            "top": null,
            "visibility": "hidden",
            "width": null
          }
        },
        "4f52b60327604519961b7c7bf5b36855": {
          "model_module": "@jupyter-widgets/base",
          "model_name": "LayoutModel",
          "model_module_version": "1.2.0",
          "state": {
            "_model_module": "@jupyter-widgets/base",
            "_model_module_version": "1.2.0",
            "_model_name": "LayoutModel",
            "_view_count": null,
            "_view_module": "@jupyter-widgets/base",
            "_view_module_version": "1.2.0",
            "_view_name": "LayoutView",
            "align_content": null,
            "align_items": null,
            "align_self": null,
            "border": null,
            "bottom": null,
            "display": null,
            "flex": null,
            "flex_flow": null,
            "grid_area": null,
            "grid_auto_columns": null,
            "grid_auto_flow": null,
            "grid_auto_rows": null,
            "grid_column": null,
            "grid_gap": null,
            "grid_row": null,
            "grid_template_areas": null,
            "grid_template_columns": null,
            "grid_template_rows": null,
            "height": null,
            "justify_content": null,
            "justify_items": null,
            "left": null,
            "margin": null,
            "max_height": null,
            "max_width": null,
            "min_height": null,
            "min_width": null,
            "object_fit": null,
            "object_position": null,
            "order": null,
            "overflow": null,
            "overflow_x": null,
            "overflow_y": null,
            "padding": null,
            "right": null,
            "top": null,
            "visibility": null,
            "width": null
          }
        },
        "cb77a41e1f3f486a9149d093391a82c8": {
          "model_module": "@jupyter-widgets/controls",
          "model_name": "DescriptionStyleModel",
          "model_module_version": "1.5.0",
          "state": {
            "_model_module": "@jupyter-widgets/controls",
            "_model_module_version": "1.5.0",
            "_model_name": "DescriptionStyleModel",
            "_view_count": null,
            "_view_module": "@jupyter-widgets/base",
            "_view_module_version": "1.2.0",
            "_view_name": "StyleView",
            "description_width": ""
          }
        },
        "a969763444e047d8a34da7c6607afcee": {
          "model_module": "@jupyter-widgets/base",
          "model_name": "LayoutModel",
          "model_module_version": "1.2.0",
          "state": {
            "_model_module": "@jupyter-widgets/base",
            "_model_module_version": "1.2.0",
            "_model_name": "LayoutModel",
            "_view_count": null,
            "_view_module": "@jupyter-widgets/base",
            "_view_module_version": "1.2.0",
            "_view_name": "LayoutView",
            "align_content": null,
            "align_items": null,
            "align_self": null,
            "border": null,
            "bottom": null,
            "display": null,
            "flex": null,
            "flex_flow": null,
            "grid_area": null,
            "grid_auto_columns": null,
            "grid_auto_flow": null,
            "grid_auto_rows": null,
            "grid_column": null,
            "grid_gap": null,
            "grid_row": null,
            "grid_template_areas": null,
            "grid_template_columns": null,
            "grid_template_rows": null,
            "height": null,
            "justify_content": null,
            "justify_items": null,
            "left": null,
            "margin": null,
            "max_height": null,
            "max_width": null,
            "min_height": null,
            "min_width": null,
            "object_fit": null,
            "object_position": null,
            "order": null,
            "overflow": null,
            "overflow_x": null,
            "overflow_y": null,
            "padding": null,
            "right": null,
            "top": null,
            "visibility": null,
            "width": null
          }
        },
        "ff34eb8053254d699d56a22c62be6ddd": {
          "model_module": "@jupyter-widgets/controls",
          "model_name": "ProgressStyleModel",
          "model_module_version": "1.5.0",
          "state": {
            "_model_module": "@jupyter-widgets/controls",
            "_model_module_version": "1.5.0",
            "_model_name": "ProgressStyleModel",
            "_view_count": null,
            "_view_module": "@jupyter-widgets/base",
            "_view_module_version": "1.2.0",
            "_view_name": "StyleView",
            "bar_color": null,
            "description_width": ""
          }
        },
        "6716ed7d0933411dae9f3823407964cb": {
          "model_module": "@jupyter-widgets/base",
          "model_name": "LayoutModel",
          "model_module_version": "1.2.0",
          "state": {
            "_model_module": "@jupyter-widgets/base",
            "_model_module_version": "1.2.0",
            "_model_name": "LayoutModel",
            "_view_count": null,
            "_view_module": "@jupyter-widgets/base",
            "_view_module_version": "1.2.0",
            "_view_name": "LayoutView",
            "align_content": null,
            "align_items": null,
            "align_self": null,
            "border": null,
            "bottom": null,
            "display": null,
            "flex": null,
            "flex_flow": null,
            "grid_area": null,
            "grid_auto_columns": null,
            "grid_auto_flow": null,
            "grid_auto_rows": null,
            "grid_column": null,
            "grid_gap": null,
            "grid_row": null,
            "grid_template_areas": null,
            "grid_template_columns": null,
            "grid_template_rows": null,
            "height": null,
            "justify_content": null,
            "justify_items": null,
            "left": null,
            "margin": null,
            "max_height": null,
            "max_width": null,
            "min_height": null,
            "min_width": null,
            "object_fit": null,
            "object_position": null,
            "order": null,
            "overflow": null,
            "overflow_x": null,
            "overflow_y": null,
            "padding": null,
            "right": null,
            "top": null,
            "visibility": null,
            "width": null
          }
        },
        "6da0feef12cc4b29b3b831235d79773c": {
          "model_module": "@jupyter-widgets/controls",
          "model_name": "DescriptionStyleModel",
          "model_module_version": "1.5.0",
          "state": {
            "_model_module": "@jupyter-widgets/controls",
            "_model_module_version": "1.5.0",
            "_model_name": "DescriptionStyleModel",
            "_view_count": null,
            "_view_module": "@jupyter-widgets/base",
            "_view_module_version": "1.2.0",
            "_view_name": "StyleView",
            "description_width": ""
          }
        },
        "ed10d52e5f9a40e5b092637cbead5d76": {
          "model_module": "@jupyter-widgets/controls",
          "model_name": "HBoxModel",
          "model_module_version": "1.5.0",
          "state": {
            "_dom_classes": [],
            "_model_module": "@jupyter-widgets/controls",
            "_model_module_version": "1.5.0",
            "_model_name": "HBoxModel",
            "_view_count": null,
            "_view_module": "@jupyter-widgets/controls",
            "_view_module_version": "1.5.0",
            "_view_name": "HBoxView",
            "box_style": "",
            "children": [
              "IPY_MODEL_9785639621d041b7be279f3778dc97ac",
              "IPY_MODEL_5d293f39154b4e6da20f9b597228076b",
              "IPY_MODEL_1def5a9770944a1d8b2b14e63ab16915"
            ],
            "layout": "IPY_MODEL_fa78ee308ad74f899456cad68f41b04c"
          }
        },
        "9785639621d041b7be279f3778dc97ac": {
          "model_module": "@jupyter-widgets/controls",
          "model_name": "HTMLModel",
          "model_module_version": "1.5.0",
          "state": {
            "_dom_classes": [],
            "_model_module": "@jupyter-widgets/controls",
            "_model_module_version": "1.5.0",
            "_model_name": "HTMLModel",
            "_view_count": null,
            "_view_module": "@jupyter-widgets/controls",
            "_view_module_version": "1.5.0",
            "_view_name": "HTMLView",
            "description": "",
            "description_tooltip": null,
            "layout": "IPY_MODEL_f31172dc97b84a05bb1e342438a0312e",
            "placeholder": "​",
            "style": "IPY_MODEL_d10aad5a6c014fd1abf610167ccfda5f",
            "value": "Generating test examples...: "
          }
        },
        "5d293f39154b4e6da20f9b597228076b": {
          "model_module": "@jupyter-widgets/controls",
          "model_name": "FloatProgressModel",
          "model_module_version": "1.5.0",
          "state": {
            "_dom_classes": [],
            "_model_module": "@jupyter-widgets/controls",
            "_model_module_version": "1.5.0",
            "_model_name": "FloatProgressModel",
            "_view_count": null,
            "_view_module": "@jupyter-widgets/controls",
            "_view_module_version": "1.5.0",
            "_view_name": "ProgressView",
            "bar_style": "info",
            "description": "",
            "description_tooltip": null,
            "layout": "IPY_MODEL_16524511149043139f5b5654582a7a97",
            "max": 1,
            "min": 0,
            "orientation": "horizontal",
            "style": "IPY_MODEL_d1abc5a13e304e0e85b474df35812c63",
            "value": 1
          }
        },
        "1def5a9770944a1d8b2b14e63ab16915": {
          "model_module": "@jupyter-widgets/controls",
          "model_name": "HTMLModel",
          "model_module_version": "1.5.0",
          "state": {
            "_dom_classes": [],
            "_model_module": "@jupyter-widgets/controls",
            "_model_module_version": "1.5.0",
            "_model_name": "HTMLModel",
            "_view_count": null,
            "_view_module": "@jupyter-widgets/controls",
            "_view_module_version": "1.5.0",
            "_view_name": "HTMLView",
            "description": "",
            "description_tooltip": null,
            "layout": "IPY_MODEL_e49a42ff56504691b2050db2fcb0a59c",
            "placeholder": "​",
            "style": "IPY_MODEL_2d7624833ee44a1380236a795cda117f",
            "value": " 8351/? [00:03&lt;00:00, 2801.26 examples/s]"
          }
        },
        "fa78ee308ad74f899456cad68f41b04c": {
          "model_module": "@jupyter-widgets/base",
          "model_name": "LayoutModel",
          "model_module_version": "1.2.0",
          "state": {
            "_model_module": "@jupyter-widgets/base",
            "_model_module_version": "1.2.0",
            "_model_name": "LayoutModel",
            "_view_count": null,
            "_view_module": "@jupyter-widgets/base",
            "_view_module_version": "1.2.0",
            "_view_name": "LayoutView",
            "align_content": null,
            "align_items": null,
            "align_self": null,
            "border": null,
            "bottom": null,
            "display": null,
            "flex": null,
            "flex_flow": null,
            "grid_area": null,
            "grid_auto_columns": null,
            "grid_auto_flow": null,
            "grid_auto_rows": null,
            "grid_column": null,
            "grid_gap": null,
            "grid_row": null,
            "grid_template_areas": null,
            "grid_template_columns": null,
            "grid_template_rows": null,
            "height": null,
            "justify_content": null,
            "justify_items": null,
            "left": null,
            "margin": null,
            "max_height": null,
            "max_width": null,
            "min_height": null,
            "min_width": null,
            "object_fit": null,
            "object_position": null,
            "order": null,
            "overflow": null,
            "overflow_x": null,
            "overflow_y": null,
            "padding": null,
            "right": null,
            "top": null,
            "visibility": "hidden",
            "width": null
          }
        },
        "f31172dc97b84a05bb1e342438a0312e": {
          "model_module": "@jupyter-widgets/base",
          "model_name": "LayoutModel",
          "model_module_version": "1.2.0",
          "state": {
            "_model_module": "@jupyter-widgets/base",
            "_model_module_version": "1.2.0",
            "_model_name": "LayoutModel",
            "_view_count": null,
            "_view_module": "@jupyter-widgets/base",
            "_view_module_version": "1.2.0",
            "_view_name": "LayoutView",
            "align_content": null,
            "align_items": null,
            "align_self": null,
            "border": null,
            "bottom": null,
            "display": null,
            "flex": null,
            "flex_flow": null,
            "grid_area": null,
            "grid_auto_columns": null,
            "grid_auto_flow": null,
            "grid_auto_rows": null,
            "grid_column": null,
            "grid_gap": null,
            "grid_row": null,
            "grid_template_areas": null,
            "grid_template_columns": null,
            "grid_template_rows": null,
            "height": null,
            "justify_content": null,
            "justify_items": null,
            "left": null,
            "margin": null,
            "max_height": null,
            "max_width": null,
            "min_height": null,
            "min_width": null,
            "object_fit": null,
            "object_position": null,
            "order": null,
            "overflow": null,
            "overflow_x": null,
            "overflow_y": null,
            "padding": null,
            "right": null,
            "top": null,
            "visibility": null,
            "width": null
          }
        },
        "d10aad5a6c014fd1abf610167ccfda5f": {
          "model_module": "@jupyter-widgets/controls",
          "model_name": "DescriptionStyleModel",
          "model_module_version": "1.5.0",
          "state": {
            "_model_module": "@jupyter-widgets/controls",
            "_model_module_version": "1.5.0",
            "_model_name": "DescriptionStyleModel",
            "_view_count": null,
            "_view_module": "@jupyter-widgets/base",
            "_view_module_version": "1.2.0",
            "_view_name": "StyleView",
            "description_width": ""
          }
        },
        "16524511149043139f5b5654582a7a97": {
          "model_module": "@jupyter-widgets/base",
          "model_name": "LayoutModel",
          "model_module_version": "1.2.0",
          "state": {
            "_model_module": "@jupyter-widgets/base",
            "_model_module_version": "1.2.0",
            "_model_name": "LayoutModel",
            "_view_count": null,
            "_view_module": "@jupyter-widgets/base",
            "_view_module_version": "1.2.0",
            "_view_name": "LayoutView",
            "align_content": null,
            "align_items": null,
            "align_self": null,
            "border": null,
            "bottom": null,
            "display": null,
            "flex": null,
            "flex_flow": null,
            "grid_area": null,
            "grid_auto_columns": null,
            "grid_auto_flow": null,
            "grid_auto_rows": null,
            "grid_column": null,
            "grid_gap": null,
            "grid_row": null,
            "grid_template_areas": null,
            "grid_template_columns": null,
            "grid_template_rows": null,
            "height": null,
            "justify_content": null,
            "justify_items": null,
            "left": null,
            "margin": null,
            "max_height": null,
            "max_width": null,
            "min_height": null,
            "min_width": null,
            "object_fit": null,
            "object_position": null,
            "order": null,
            "overflow": null,
            "overflow_x": null,
            "overflow_y": null,
            "padding": null,
            "right": null,
            "top": null,
            "visibility": null,
            "width": "20px"
          }
        },
        "d1abc5a13e304e0e85b474df35812c63": {
          "model_module": "@jupyter-widgets/controls",
          "model_name": "ProgressStyleModel",
          "model_module_version": "1.5.0",
          "state": {
            "_model_module": "@jupyter-widgets/controls",
            "_model_module_version": "1.5.0",
            "_model_name": "ProgressStyleModel",
            "_view_count": null,
            "_view_module": "@jupyter-widgets/base",
            "_view_module_version": "1.2.0",
            "_view_name": "StyleView",
            "bar_color": null,
            "description_width": ""
          }
        },
        "e49a42ff56504691b2050db2fcb0a59c": {
          "model_module": "@jupyter-widgets/base",
          "model_name": "LayoutModel",
          "model_module_version": "1.2.0",
          "state": {
            "_model_module": "@jupyter-widgets/base",
            "_model_module_version": "1.2.0",
            "_model_name": "LayoutModel",
            "_view_count": null,
            "_view_module": "@jupyter-widgets/base",
            "_view_module_version": "1.2.0",
            "_view_name": "LayoutView",
            "align_content": null,
            "align_items": null,
            "align_self": null,
            "border": null,
            "bottom": null,
            "display": null,
            "flex": null,
            "flex_flow": null,
            "grid_area": null,
            "grid_auto_columns": null,
            "grid_auto_flow": null,
            "grid_auto_rows": null,
            "grid_column": null,
            "grid_gap": null,
            "grid_row": null,
            "grid_template_areas": null,
            "grid_template_columns": null,
            "grid_template_rows": null,
            "height": null,
            "justify_content": null,
            "justify_items": null,
            "left": null,
            "margin": null,
            "max_height": null,
            "max_width": null,
            "min_height": null,
            "min_width": null,
            "object_fit": null,
            "object_position": null,
            "order": null,
            "overflow": null,
            "overflow_x": null,
            "overflow_y": null,
            "padding": null,
            "right": null,
            "top": null,
            "visibility": null,
            "width": null
          }
        },
        "2d7624833ee44a1380236a795cda117f": {
          "model_module": "@jupyter-widgets/controls",
          "model_name": "DescriptionStyleModel",
          "model_module_version": "1.5.0",
          "state": {
            "_model_module": "@jupyter-widgets/controls",
            "_model_module_version": "1.5.0",
            "_model_name": "DescriptionStyleModel",
            "_view_count": null,
            "_view_module": "@jupyter-widgets/base",
            "_view_module_version": "1.2.0",
            "_view_name": "StyleView",
            "description_width": ""
          }
        },
        "8ef1edd699e74472b3fbddac712087b9": {
          "model_module": "@jupyter-widgets/controls",
          "model_name": "HBoxModel",
          "model_module_version": "1.5.0",
          "state": {
            "_dom_classes": [],
            "_model_module": "@jupyter-widgets/controls",
            "_model_module_version": "1.5.0",
            "_model_name": "HBoxModel",
            "_view_count": null,
            "_view_module": "@jupyter-widgets/controls",
            "_view_module_version": "1.5.0",
            "_view_name": "HBoxView",
            "box_style": "",
            "children": [
              "IPY_MODEL_7736f2ee91ca44d89c5d21b35d04ea5e",
              "IPY_MODEL_47ef372980b9471f8be9356fd0fbc97f",
              "IPY_MODEL_b26a77107e8f4968ac76813dc97bb730"
            ],
            "layout": "IPY_MODEL_1c6976c0fdda456ea5519577f88dfe24"
          }
        },
        "7736f2ee91ca44d89c5d21b35d04ea5e": {
          "model_module": "@jupyter-widgets/controls",
          "model_name": "HTMLModel",
          "model_module_version": "1.5.0",
          "state": {
            "_dom_classes": [],
            "_model_module": "@jupyter-widgets/controls",
            "_model_module_version": "1.5.0",
            "_model_name": "HTMLModel",
            "_view_count": null,
            "_view_module": "@jupyter-widgets/controls",
            "_view_module_version": "1.5.0",
            "_view_name": "HTMLView",
            "description": "",
            "description_tooltip": null,
            "layout": "IPY_MODEL_df572fc135d240ccae9d7b8b854a43d2",
            "placeholder": "​",
            "style": "IPY_MODEL_a11f05bdbeb24d288944c88291ea3c3d",
            "value": "Shuffling /root/tensorflow_datasets/mnist/incomplete.6DXZ0D_3.0.1/mnist-test.tfrecord*...:   0%"
          }
        },
        "47ef372980b9471f8be9356fd0fbc97f": {
          "model_module": "@jupyter-widgets/controls",
          "model_name": "FloatProgressModel",
          "model_module_version": "1.5.0",
          "state": {
            "_dom_classes": [],
            "_model_module": "@jupyter-widgets/controls",
            "_model_module_version": "1.5.0",
            "_model_name": "FloatProgressModel",
            "_view_count": null,
            "_view_module": "@jupyter-widgets/controls",
            "_view_module_version": "1.5.0",
            "_view_name": "ProgressView",
            "bar_style": "",
            "description": "",
            "description_tooltip": null,
            "layout": "IPY_MODEL_9aff3eb3e63142389599447db66765a7",
            "max": 10000,
            "min": 0,
            "orientation": "horizontal",
            "style": "IPY_MODEL_97249f1772ab41278eedd3b9e827b043",
            "value": 10000
          }
        },
        "b26a77107e8f4968ac76813dc97bb730": {
          "model_module": "@jupyter-widgets/controls",
          "model_name": "HTMLModel",
          "model_module_version": "1.5.0",
          "state": {
            "_dom_classes": [],
            "_model_module": "@jupyter-widgets/controls",
            "_model_module_version": "1.5.0",
            "_model_name": "HTMLModel",
            "_view_count": null,
            "_view_module": "@jupyter-widgets/controls",
            "_view_module_version": "1.5.0",
            "_view_name": "HTMLView",
            "description": "",
            "description_tooltip": null,
            "layout": "IPY_MODEL_6b3c945d93db4fe598ee699af9fb30c5",
            "placeholder": "​",
            "style": "IPY_MODEL_7c1a4c32df2d470784c446c44f1bacbc",
            "value": " 0/10000 [00:00&lt;?, ? examples/s]"
          }
        },
        "1c6976c0fdda456ea5519577f88dfe24": {
          "model_module": "@jupyter-widgets/base",
          "model_name": "LayoutModel",
          "model_module_version": "1.2.0",
          "state": {
            "_model_module": "@jupyter-widgets/base",
            "_model_module_version": "1.2.0",
            "_model_name": "LayoutModel",
            "_view_count": null,
            "_view_module": "@jupyter-widgets/base",
            "_view_module_version": "1.2.0",
            "_view_name": "LayoutView",
            "align_content": null,
            "align_items": null,
            "align_self": null,
            "border": null,
            "bottom": null,
            "display": null,
            "flex": null,
            "flex_flow": null,
            "grid_area": null,
            "grid_auto_columns": null,
            "grid_auto_flow": null,
            "grid_auto_rows": null,
            "grid_column": null,
            "grid_gap": null,
            "grid_row": null,
            "grid_template_areas": null,
            "grid_template_columns": null,
            "grid_template_rows": null,
            "height": null,
            "justify_content": null,
            "justify_items": null,
            "left": null,
            "margin": null,
            "max_height": null,
            "max_width": null,
            "min_height": null,
            "min_width": null,
            "object_fit": null,
            "object_position": null,
            "order": null,
            "overflow": null,
            "overflow_x": null,
            "overflow_y": null,
            "padding": null,
            "right": null,
            "top": null,
            "visibility": "hidden",
            "width": null
          }
        },
        "df572fc135d240ccae9d7b8b854a43d2": {
          "model_module": "@jupyter-widgets/base",
          "model_name": "LayoutModel",
          "model_module_version": "1.2.0",
          "state": {
            "_model_module": "@jupyter-widgets/base",
            "_model_module_version": "1.2.0",
            "_model_name": "LayoutModel",
            "_view_count": null,
            "_view_module": "@jupyter-widgets/base",
            "_view_module_version": "1.2.0",
            "_view_name": "LayoutView",
            "align_content": null,
            "align_items": null,
            "align_self": null,
            "border": null,
            "bottom": null,
            "display": null,
            "flex": null,
            "flex_flow": null,
            "grid_area": null,
            "grid_auto_columns": null,
            "grid_auto_flow": null,
            "grid_auto_rows": null,
            "grid_column": null,
            "grid_gap": null,
            "grid_row": null,
            "grid_template_areas": null,
            "grid_template_columns": null,
            "grid_template_rows": null,
            "height": null,
            "justify_content": null,
            "justify_items": null,
            "left": null,
            "margin": null,
            "max_height": null,
            "max_width": null,
            "min_height": null,
            "min_width": null,
            "object_fit": null,
            "object_position": null,
            "order": null,
            "overflow": null,
            "overflow_x": null,
            "overflow_y": null,
            "padding": null,
            "right": null,
            "top": null,
            "visibility": null,
            "width": null
          }
        },
        "a11f05bdbeb24d288944c88291ea3c3d": {
          "model_module": "@jupyter-widgets/controls",
          "model_name": "DescriptionStyleModel",
          "model_module_version": "1.5.0",
          "state": {
            "_model_module": "@jupyter-widgets/controls",
            "_model_module_version": "1.5.0",
            "_model_name": "DescriptionStyleModel",
            "_view_count": null,
            "_view_module": "@jupyter-widgets/base",
            "_view_module_version": "1.2.0",
            "_view_name": "StyleView",
            "description_width": ""
          }
        },
        "9aff3eb3e63142389599447db66765a7": {
          "model_module": "@jupyter-widgets/base",
          "model_name": "LayoutModel",
          "model_module_version": "1.2.0",
          "state": {
            "_model_module": "@jupyter-widgets/base",
            "_model_module_version": "1.2.0",
            "_model_name": "LayoutModel",
            "_view_count": null,
            "_view_module": "@jupyter-widgets/base",
            "_view_module_version": "1.2.0",
            "_view_name": "LayoutView",
            "align_content": null,
            "align_items": null,
            "align_self": null,
            "border": null,
            "bottom": null,
            "display": null,
            "flex": null,
            "flex_flow": null,
            "grid_area": null,
            "grid_auto_columns": null,
            "grid_auto_flow": null,
            "grid_auto_rows": null,
            "grid_column": null,
            "grid_gap": null,
            "grid_row": null,
            "grid_template_areas": null,
            "grid_template_columns": null,
            "grid_template_rows": null,
            "height": null,
            "justify_content": null,
            "justify_items": null,
            "left": null,
            "margin": null,
            "max_height": null,
            "max_width": null,
            "min_height": null,
            "min_width": null,
            "object_fit": null,
            "object_position": null,
            "order": null,
            "overflow": null,
            "overflow_x": null,
            "overflow_y": null,
            "padding": null,
            "right": null,
            "top": null,
            "visibility": null,
            "width": null
          }
        },
        "97249f1772ab41278eedd3b9e827b043": {
          "model_module": "@jupyter-widgets/controls",
          "model_name": "ProgressStyleModel",
          "model_module_version": "1.5.0",
          "state": {
            "_model_module": "@jupyter-widgets/controls",
            "_model_module_version": "1.5.0",
            "_model_name": "ProgressStyleModel",
            "_view_count": null,
            "_view_module": "@jupyter-widgets/base",
            "_view_module_version": "1.2.0",
            "_view_name": "StyleView",
            "bar_color": null,
            "description_width": ""
          }
        },
        "6b3c945d93db4fe598ee699af9fb30c5": {
          "model_module": "@jupyter-widgets/base",
          "model_name": "LayoutModel",
          "model_module_version": "1.2.0",
          "state": {
            "_model_module": "@jupyter-widgets/base",
            "_model_module_version": "1.2.0",
            "_model_name": "LayoutModel",
            "_view_count": null,
            "_view_module": "@jupyter-widgets/base",
            "_view_module_version": "1.2.0",
            "_view_name": "LayoutView",
            "align_content": null,
            "align_items": null,
            "align_self": null,
            "border": null,
            "bottom": null,
            "display": null,
            "flex": null,
            "flex_flow": null,
            "grid_area": null,
            "grid_auto_columns": null,
            "grid_auto_flow": null,
            "grid_auto_rows": null,
            "grid_column": null,
            "grid_gap": null,
            "grid_row": null,
            "grid_template_areas": null,
            "grid_template_columns": null,
            "grid_template_rows": null,
            "height": null,
            "justify_content": null,
            "justify_items": null,
            "left": null,
            "margin": null,
            "max_height": null,
            "max_width": null,
            "min_height": null,
            "min_width": null,
            "object_fit": null,
            "object_position": null,
            "order": null,
            "overflow": null,
            "overflow_x": null,
            "overflow_y": null,
            "padding": null,
            "right": null,
            "top": null,
            "visibility": null,
            "width": null
          }
        },
        "7c1a4c32df2d470784c446c44f1bacbc": {
          "model_module": "@jupyter-widgets/controls",
          "model_name": "DescriptionStyleModel",
          "model_module_version": "1.5.0",
          "state": {
            "_model_module": "@jupyter-widgets/controls",
            "_model_module_version": "1.5.0",
            "_model_name": "DescriptionStyleModel",
            "_view_count": null,
            "_view_module": "@jupyter-widgets/base",
            "_view_module_version": "1.2.0",
            "_view_name": "StyleView",
            "description_width": ""
          }
        }
      }
    }
  },
  "cells": [
    {
      "cell_type": "markdown",
      "metadata": {
        "id": "view-in-github",
        "colab_type": "text"
      },
      "source": [
        "<a href=\"https://colab.research.google.com/github/Timure228/Hands-on-ML/blob/main/Chapter_13.ipynb\" target=\"_parent\"><img src=\"https://colab.research.google.com/assets/colab-badge.svg\" alt=\"Open In Colab\"/></a>"
      ]
    },
    {
      "cell_type": "code",
      "source": [
        "import numpy as np\n",
        "\n",
        "arr = np.random.randint(30, size=(5))\n",
        "set(arr)"
      ],
      "metadata": {
        "colab": {
          "base_uri": "https://localhost:8080/"
        },
        "id": "ieSTNy6IxeJ-",
        "outputId": "eeb6fd95-cbce-4ae7-82a8-c80839211de8"
      },
      "execution_count": 1,
      "outputs": [
        {
          "output_type": "execute_result",
          "data": {
            "text/plain": [
              "{np.int64(2), np.int64(14), np.int64(19), np.int64(20), np.int64(21)}"
            ]
          },
          "metadata": {},
          "execution_count": 1
        }
      ]
    },
    {
      "cell_type": "markdown",
      "source": [
        "# The tf.data API"
      ],
      "metadata": {
        "id": "yni9yXLeWFoy"
      }
    },
    {
      "cell_type": "code",
      "source": [
        "# Create a dataset from a simple data tensor using tf.data.Dataset.from_tensor_slices()\n",
        "import tensorflow as tf\n",
        "X = tf.range(11) # any data tensor\n",
        "dataset = tf.data.Dataset.from_tensor_slices(X)\n",
        "dataset"
      ],
      "metadata": {
        "colab": {
          "base_uri": "https://localhost:8080/"
        },
        "id": "O8U0GHjKWMMZ",
        "outputId": "ea6ad98a-e563-4897-eed8-7edac28b696c"
      },
      "execution_count": 2,
      "outputs": [
        {
          "output_type": "execute_result",
          "data": {
            "text/plain": [
              "<_TensorSliceDataset element_spec=TensorSpec(shape=(), dtype=tf.int32, name=None)>"
            ]
          },
          "metadata": {},
          "execution_count": 2
        }
      ]
    },
    {
      "cell_type": "code",
      "source": [
        "# Iterate through items\n",
        "for item in dataset:\n",
        "  print(item)"
      ],
      "metadata": {
        "colab": {
          "base_uri": "https://localhost:8080/"
        },
        "id": "UT5DnI03WtTW",
        "outputId": "c5b25919-462c-472a-db97-006243e961f1"
      },
      "execution_count": null,
      "outputs": [
        {
          "output_type": "stream",
          "name": "stdout",
          "text": [
            "tf.Tensor(0, shape=(), dtype=int32)\n",
            "tf.Tensor(1, shape=(), dtype=int32)\n",
            "tf.Tensor(2, shape=(), dtype=int32)\n",
            "tf.Tensor(3, shape=(), dtype=int32)\n",
            "tf.Tensor(4, shape=(), dtype=int32)\n",
            "tf.Tensor(5, shape=(), dtype=int32)\n",
            "tf.Tensor(6, shape=(), dtype=int32)\n",
            "tf.Tensor(7, shape=(), dtype=int32)\n",
            "tf.Tensor(8, shape=(), dtype=int32)\n",
            "tf.Tensor(9, shape=(), dtype=int32)\n",
            "tf.Tensor(10, shape=(), dtype=int32)\n"
          ]
        }
      ]
    },
    {
      "cell_type": "code",
      "source": [
        "# Do it with tuples and dictionaries etc, (name / tensor pairs)\n",
        "X_nested = {\"a\": ([1, 2, 3], [4, 5, 6]), \"b\": [7, 8, 9]}\n",
        "dataset = tf.data.Dataset.from_tensor_slices(X_nested)\n",
        "for item in dataset:\n",
        "  print(item)"
      ],
      "metadata": {
        "colab": {
          "base_uri": "https://localhost:8080/"
        },
        "id": "cJpjzyvTXxT3",
        "outputId": "eee875e3-9f96-4629-8499-95ffd5b35171"
      },
      "execution_count": null,
      "outputs": [
        {
          "output_type": "stream",
          "name": "stdout",
          "text": [
            "{'a': (<tf.Tensor: shape=(), dtype=int32, numpy=1>, <tf.Tensor: shape=(), dtype=int32, numpy=4>), 'b': <tf.Tensor: shape=(), dtype=int32, numpy=7>}\n",
            "{'a': (<tf.Tensor: shape=(), dtype=int32, numpy=2>, <tf.Tensor: shape=(), dtype=int32, numpy=5>), 'b': <tf.Tensor: shape=(), dtype=int32, numpy=8>}\n",
            "{'a': (<tf.Tensor: shape=(), dtype=int32, numpy=3>, <tf.Tensor: shape=(), dtype=int32, numpy=6>), 'b': <tf.Tensor: shape=(), dtype=int32, numpy=9>}\n"
          ]
        }
      ]
    },
    {
      "cell_type": "code",
      "source": [
        "# Transformations with tf.data (creates new dataset each transformation)\n",
        "dataset = tf.data.Dataset.from_tensor_slices(tf.range(10))\n",
        "dataset = dataset.repeat(3).batch(7)\n",
        "for item in dataset:\n",
        "  print(item)"
      ],
      "metadata": {
        "colab": {
          "base_uri": "https://localhost:8080/"
        },
        "id": "_mH3gNc8YauP",
        "outputId": "7b8de17c-35d4-4dc6-91ff-416474ed198d"
      },
      "execution_count": null,
      "outputs": [
        {
          "output_type": "stream",
          "name": "stdout",
          "text": [
            "tf.Tensor([0 1 2 3 4 5 6], shape=(7,), dtype=int32)\n",
            "tf.Tensor([7 8 9 0 1 2 3], shape=(7,), dtype=int32)\n",
            "tf.Tensor([4 5 6 7 8 9 0], shape=(7,), dtype=int32)\n",
            "tf.Tensor([1 2 3 4 5 6 7], shape=(7,), dtype=int32)\n",
            "tf.Tensor([8 9], shape=(2,), dtype=int32)\n"
          ]
        }
      ]
    },
    {
      "cell_type": "code",
      "source": [
        "# You can use .map()\n",
        "dataset = dataset.map(lambda x: x + 3)\n",
        "for item in dataset:\n",
        "  print(item)"
      ],
      "metadata": {
        "colab": {
          "base_uri": "https://localhost:8080/"
        },
        "id": "1ZAejkgxZlpj",
        "outputId": "7d1d4ca5-27f8-45a5-bb18-c0f0cfd1d75f"
      },
      "execution_count": null,
      "outputs": [
        {
          "output_type": "stream",
          "name": "stdout",
          "text": [
            "tf.Tensor([3 4 5 6 7 8 9], shape=(7,), dtype=int32)\n",
            "tf.Tensor([10 11 12  3  4  5  6], shape=(7,), dtype=int32)\n",
            "tf.Tensor([ 7  8  9 10 11 12  3], shape=(7,), dtype=int32)\n",
            "tf.Tensor([ 4  5  6  7  8  9 10], shape=(7,), dtype=int32)\n",
            "tf.Tensor([11 12], shape=(2,), dtype=int32)\n"
          ]
        }
      ]
    },
    {
      "cell_type": "code",
      "source": [
        "# You can use .filter()\n",
        "dataset = dataset.filter(lambda x: tf.reduce_sum(X) > 50)\n",
        "for item in dataset:\n",
        "  print(item)"
      ],
      "metadata": {
        "colab": {
          "base_uri": "https://localhost:8080/"
        },
        "id": "BtWmWDr_aeQQ",
        "outputId": "348b2d73-d527-4983-fbf9-d622b51087b9"
      },
      "execution_count": null,
      "outputs": [
        {
          "output_type": "stream",
          "name": "stdout",
          "text": [
            "tf.Tensor([3 4 5 6 7 8 9], shape=(7,), dtype=int32)\n",
            "tf.Tensor([10 11 12  3  4  5  6], shape=(7,), dtype=int32)\n",
            "tf.Tensor([ 7  8  9 10 11 12  3], shape=(7,), dtype=int32)\n",
            "tf.Tensor([ 4  5  6  7  8  9 10], shape=(7,), dtype=int32)\n",
            "tf.Tensor([11 12], shape=(2,), dtype=int32)\n"
          ]
        }
      ]
    },
    {
      "cell_type": "code",
      "source": [
        "# Use take() to check few items\n",
        "for item in dataset.take(2):\n",
        "  print(item)"
      ],
      "metadata": {
        "colab": {
          "base_uri": "https://localhost:8080/"
        },
        "id": "lvPpEb_zbLWe",
        "outputId": "093c76b5-6396-4d05-f000-a3de24167864"
      },
      "execution_count": null,
      "outputs": [
        {
          "output_type": "stream",
          "name": "stdout",
          "text": [
            "tf.Tensor([3 4 5 6 7 8 9], shape=(7,), dtype=int32)\n",
            "tf.Tensor([10 11 12  3  4  5  6], shape=(7,), dtype=int32)\n"
          ]
        }
      ]
    },
    {
      "cell_type": "code",
      "source": [
        "# Shuffle\n",
        "dataset = tf.data.Dataset.range(10).repeat(2)\n",
        "dataset = dataset.shuffle(buffer_size=4, seed=42).batch(7)\n",
        "for item in dataset:\n",
        "  print(item)"
      ],
      "metadata": {
        "colab": {
          "base_uri": "https://localhost:8080/"
        },
        "id": "w8gNn5tScD8y",
        "outputId": "940acdcf-64cc-4a02-dbc1-a9f8c3d16bf8"
      },
      "execution_count": null,
      "outputs": [
        {
          "output_type": "stream",
          "name": "stdout",
          "text": [
            "tf.Tensor([1 4 2 3 5 0 6], shape=(7,), dtype=int64)\n",
            "tf.Tensor([9 8 2 0 3 1 4], shape=(7,), dtype=int64)\n",
            "tf.Tensor([5 7 9 6 7 8], shape=(6,), dtype=int64)\n"
          ]
        }
      ]
    },
    {
      "cell_type": "code",
      "source": [
        "# Shuffle filepaths\n",
        "path_example = [\"data/spam_data*.csv\", \"data/spam_data*.csv\"] # simple list with data paths\n",
        "\n",
        "filepath_dataset = tf.data.Dataset.list_files(\"data/spam_data*.csv\", seed=42) # Shuffles the filepaths\n",
        "next(iter(filepath_dataset))"
      ],
      "metadata": {
        "colab": {
          "base_uri": "https://localhost:8080/",
          "height": 344
        },
        "id": "vgzQ0RZ3x0zf",
        "outputId": "35f5e7c1-44f1-4461-b774-7dde2172bf2b"
      },
      "execution_count": null,
      "outputs": [
        {
          "output_type": "error",
          "ename": "InvalidArgumentError",
          "evalue": "Expected 'tf.Tensor(False, shape=(), dtype=bool)' to be true. Summarized data: b'No files matched pattern: data/spam_data*.csv'",
          "traceback": [
            "\u001b[0;31m---------------------------------------------------------------------------\u001b[0m",
            "\u001b[0;31mInvalidArgumentError\u001b[0m                      Traceback (most recent call last)",
            "\u001b[0;32m<ipython-input-9-3410612917>\u001b[0m in \u001b[0;36m<cell line: 0>\u001b[0;34m()\u001b[0m\n\u001b[1;32m      2\u001b[0m \u001b[0mpath_example\u001b[0m \u001b[0;34m=\u001b[0m \u001b[0;34m[\u001b[0m\u001b[0;34m\"data/spam_data*.csv\"\u001b[0m\u001b[0;34m,\u001b[0m \u001b[0;34m\"data/spam_data*.csv\"\u001b[0m\u001b[0;34m]\u001b[0m \u001b[0;31m# simple list with data paths\u001b[0m\u001b[0;34m\u001b[0m\u001b[0;34m\u001b[0m\u001b[0m\n\u001b[1;32m      3\u001b[0m \u001b[0;34m\u001b[0m\u001b[0m\n\u001b[0;32m----> 4\u001b[0;31m \u001b[0mfilepath_dataset\u001b[0m \u001b[0;34m=\u001b[0m \u001b[0mtf\u001b[0m\u001b[0;34m.\u001b[0m\u001b[0mdata\u001b[0m\u001b[0;34m.\u001b[0m\u001b[0mDataset\u001b[0m\u001b[0;34m.\u001b[0m\u001b[0mlist_files\u001b[0m\u001b[0;34m(\u001b[0m\u001b[0;34m\"data/spam_data*.csv\"\u001b[0m\u001b[0;34m,\u001b[0m \u001b[0mseed\u001b[0m\u001b[0;34m=\u001b[0m\u001b[0;36m42\u001b[0m\u001b[0;34m)\u001b[0m \u001b[0;31m# Shuffles the filepaths\u001b[0m\u001b[0;34m\u001b[0m\u001b[0;34m\u001b[0m\u001b[0m\n\u001b[0m\u001b[1;32m      5\u001b[0m \u001b[0mnext\u001b[0m\u001b[0;34m(\u001b[0m\u001b[0miter\u001b[0m\u001b[0;34m(\u001b[0m\u001b[0mfilepath_dataset\u001b[0m\u001b[0;34m)\u001b[0m\u001b[0;34m)\u001b[0m\u001b[0;34m\u001b[0m\u001b[0;34m\u001b[0m\u001b[0m\n",
            "\u001b[0;32m/usr/local/lib/python3.11/dist-packages/tensorflow/python/data/ops/dataset_ops.py\u001b[0m in \u001b[0;36mlist_files\u001b[0;34m(file_pattern, shuffle, seed, name)\u001b[0m\n\u001b[1;32m   1327\u001b[0m           string_ops.reduce_join(file_pattern, separator=\", \"), name=\"message\")\n\u001b[1;32m   1328\u001b[0m \u001b[0;34m\u001b[0m\u001b[0m\n\u001b[0;32m-> 1329\u001b[0;31m       assert_not_empty = control_flow_assert.Assert(\n\u001b[0m\u001b[1;32m   1330\u001b[0m           condition, [message], summarize=1, name=\"assert_not_empty\")\n\u001b[1;32m   1331\u001b[0m       \u001b[0;32mwith\u001b[0m \u001b[0mops\u001b[0m\u001b[0;34m.\u001b[0m\u001b[0mcontrol_dependencies\u001b[0m\u001b[0;34m(\u001b[0m\u001b[0;34m[\u001b[0m\u001b[0massert_not_empty\u001b[0m\u001b[0;34m]\u001b[0m\u001b[0;34m)\u001b[0m\u001b[0;34m:\u001b[0m\u001b[0;34m\u001b[0m\u001b[0;34m\u001b[0m\u001b[0m\n",
            "\u001b[0;32m/usr/local/lib/python3.11/dist-packages/tensorflow/python/util/traceback_utils.py\u001b[0m in \u001b[0;36merror_handler\u001b[0;34m(*args, **kwargs)\u001b[0m\n\u001b[1;32m    151\u001b[0m     \u001b[0;32mexcept\u001b[0m \u001b[0mException\u001b[0m \u001b[0;32mas\u001b[0m \u001b[0me\u001b[0m\u001b[0;34m:\u001b[0m\u001b[0;34m\u001b[0m\u001b[0;34m\u001b[0m\u001b[0m\n\u001b[1;32m    152\u001b[0m       \u001b[0mfiltered_tb\u001b[0m \u001b[0;34m=\u001b[0m \u001b[0m_process_traceback_frames\u001b[0m\u001b[0;34m(\u001b[0m\u001b[0me\u001b[0m\u001b[0;34m.\u001b[0m\u001b[0m__traceback__\u001b[0m\u001b[0;34m)\u001b[0m\u001b[0;34m\u001b[0m\u001b[0;34m\u001b[0m\u001b[0m\n\u001b[0;32m--> 153\u001b[0;31m       \u001b[0;32mraise\u001b[0m \u001b[0me\u001b[0m\u001b[0;34m.\u001b[0m\u001b[0mwith_traceback\u001b[0m\u001b[0;34m(\u001b[0m\u001b[0mfiltered_tb\u001b[0m\u001b[0;34m)\u001b[0m \u001b[0;32mfrom\u001b[0m \u001b[0;32mNone\u001b[0m\u001b[0;34m\u001b[0m\u001b[0;34m\u001b[0m\u001b[0m\n\u001b[0m\u001b[1;32m    154\u001b[0m     \u001b[0;32mfinally\u001b[0m\u001b[0;34m:\u001b[0m\u001b[0;34m\u001b[0m\u001b[0;34m\u001b[0m\u001b[0m\n\u001b[1;32m    155\u001b[0m       \u001b[0;32mdel\u001b[0m \u001b[0mfiltered_tb\u001b[0m\u001b[0;34m\u001b[0m\u001b[0;34m\u001b[0m\u001b[0m\n",
            "\u001b[0;32m/usr/local/lib/python3.11/dist-packages/tensorflow/python/ops/control_flow_assert.py\u001b[0m in \u001b[0;36mAssert\u001b[0;34m(condition, data, summarize, name)\u001b[0m\n\u001b[1;32m    100\u001b[0m       \u001b[0mxs\u001b[0m \u001b[0;34m=\u001b[0m \u001b[0mops\u001b[0m\u001b[0;34m.\u001b[0m\u001b[0mconvert_n_to_tensor\u001b[0m\u001b[0;34m(\u001b[0m\u001b[0mdata\u001b[0m\u001b[0;34m)\u001b[0m\u001b[0;34m\u001b[0m\u001b[0;34m\u001b[0m\u001b[0m\n\u001b[1;32m    101\u001b[0m       \u001b[0mdata_str\u001b[0m \u001b[0;34m=\u001b[0m \u001b[0;34m[\u001b[0m\u001b[0m_summarize_eager\u001b[0m\u001b[0;34m(\u001b[0m\u001b[0mx\u001b[0m\u001b[0;34m,\u001b[0m \u001b[0msummarize\u001b[0m\u001b[0;34m)\u001b[0m \u001b[0;32mfor\u001b[0m \u001b[0mx\u001b[0m \u001b[0;32min\u001b[0m \u001b[0mxs\u001b[0m\u001b[0;34m]\u001b[0m\u001b[0;34m\u001b[0m\u001b[0;34m\u001b[0m\u001b[0m\n\u001b[0;32m--> 102\u001b[0;31m       raise errors.InvalidArgumentError(\n\u001b[0m\u001b[1;32m    103\u001b[0m           \u001b[0mnode_def\u001b[0m\u001b[0;34m=\u001b[0m\u001b[0;32mNone\u001b[0m\u001b[0;34m,\u001b[0m\u001b[0;34m\u001b[0m\u001b[0;34m\u001b[0m\u001b[0m\n\u001b[1;32m    104\u001b[0m           \u001b[0mop\u001b[0m\u001b[0;34m=\u001b[0m\u001b[0;32mNone\u001b[0m\u001b[0;34m,\u001b[0m\u001b[0;34m\u001b[0m\u001b[0;34m\u001b[0m\u001b[0m\n",
            "\u001b[0;31mInvalidArgumentError\u001b[0m: Expected 'tf.Tensor(False, shape=(), dtype=bool)' to be true. Summarized data: b'No files matched pattern: data/spam_data*.csv'"
          ]
        }
      ]
    },
    {
      "cell_type": "code",
      "source": [
        "n_readers = 2\n",
        "dataset = filepath_dataset.interleave( # Read n_readers files at a time and interleave their lines.\n",
        "    lambda filepath: tf.data.TextLineDataset(filepath).skip(1),\n",
        "    cycle_length=n_readers)\n",
        "dataset"
      ],
      "metadata": {
        "id": "jZ3lSjzdzwZf"
      },
      "execution_count": null,
      "outputs": []
    },
    {
      "cell_type": "code",
      "source": [
        "for line in dataset.take(2):\n",
        "  print(line)"
      ],
      "metadata": {
        "id": "gj5g6lgs2HWd"
      },
      "execution_count": null,
      "outputs": []
    },
    {
      "cell_type": "code",
      "source": [
        "# Preprocessing the Date (not the spam data)\n",
        "X_mean, X_std = [1, 2, 3, 4, 5, 6, 7, 8], [1, 2, 3, 34, 5, 6, 7, 8]\n",
        "n_inputs = 8\n",
        "\n",
        "def parse_csv_line(line):\n",
        "  defs = [0.] * n_inputs + [tf.constant([], dtype=tf.float32)]\n",
        "  fields = tf.io.decode_csv(line, record_defaults=defs)\n",
        "  return tf.stack(fields[:-1]), tf.stack(fields[-1:])\n",
        "\n",
        "def preprocess(line):\n",
        "  x, y = parse_csv_line(line)\n",
        "  return (x - X_mean) / X_std, y"
      ],
      "metadata": {
        "id": "PDVGgL9V2MF0"
      },
      "execution_count": null,
      "outputs": []
    },
    {
      "cell_type": "code",
      "source": [
        "[0.] * 8 + [tf.constant([], dtype=tf.float32)]"
      ],
      "metadata": {
        "id": "EwELx1hV5zkn"
      },
      "execution_count": null,
      "outputs": []
    },
    {
      "cell_type": "code",
      "source": [
        "preprocess(b'4.2124, 44.0, 5.3232, 0.9178, 846.0, 2.3343, 37.42, -123.34, 2.')"
      ],
      "metadata": {
        "id": "-NcY1Q8c4TzJ"
      },
      "execution_count": null,
      "outputs": []
    },
    {
      "cell_type": "code",
      "source": [
        "# Put it all together\n",
        "def csv_reader_dataset(filepaths, n_readers=5, n_read_threads=None,\n",
        "                       n_parse_threads=5, shuffle_buffer_size=10_000, seed=42,\n",
        "                       batch_size=32):\n",
        "  dataset = tf.data.Dataset.list_files(filepaths, seed=seed)\n",
        "\n",
        "  dataset = dataset.interleave(\n",
        "      lambda filepath: tf.data.TextLineDataset(filepaths).skip(1),\n",
        "      cycle_length=n_readers, num_parallel_calls=n_parse_threads)\n",
        "\n",
        "  dataset = dataset.map(preprocess, num_parallel_calls=n_parse_threads)\n",
        "\n",
        "  dataset = dataset.shuffle(shuffle_buffer_size, seed=seed)\n",
        "\n",
        "  return dataset.batch(batch_size).prefetch(1)"
      ],
      "metadata": {
        "id": "O-Ob6wib6RKV"
      },
      "execution_count": null,
      "outputs": []
    },
    {
      "cell_type": "code",
      "source": [
        "# Now let's create a train set\n",
        "train_set = csv_reader_dataset(path_example)"
      ],
      "metadata": {
        "id": "xr7Gp_0I6AP6"
      },
      "execution_count": null,
      "outputs": []
    },
    {
      "cell_type": "code",
      "source": [
        "# Fit the train dataset into the model\n",
        "model = tf.keras.Sequential([\n",
        "    tf.keras.layers.Input((8,)),\n",
        "    tf.keras.layers.Dense(10),\n",
        "    tf.keras.layers.Dense(10),\n",
        "    tf.keras.layers.Dense(1)\n",
        "])\n",
        "\n",
        "# model.compile(loss=\"mse\", optimizer=\"sgd\")\n",
        "# model.fit(train_set, epochs=5)"
      ],
      "metadata": {
        "id": "Jd75IqYg1Z2P"
      },
      "execution_count": null,
      "outputs": []
    },
    {
      "cell_type": "code",
      "source": [
        "# Use other methods as well\n",
        "# test_mse = model.evaluate(test_set)\n",
        "# new_set = test_set.take(3) # pretend we have 3 new samples\n",
        "# y_pred = model.predict(new_set) # or you could just pass a NumPy array"
      ],
      "metadata": {
        "id": "hGZUj55A24Sz"
      },
      "execution_count": null,
      "outputs": []
    },
    {
      "cell_type": "code",
      "source": [
        "# Create training loop as a TF function\n",
        "@tf.function\n",
        "def train_one_epoch(model, optimizer, loss_fn, train_set):\n",
        "  for X_batch, y_batch in train_set:\n",
        "    with tf.GradientTape() as tape:\n",
        "      y_pred = model(X_batch)\n",
        "      main_loss = tf.reduce_mean(loss_fn(y_batch, y_pred))\n",
        "      loss = tf.add_n([main_loss] + model.losses)\n",
        "    gradients = tape.gradient(loss, model.trainable_variables)\n",
        "    optimizer.apply_gradients(zip(gradients, model.trainable_variables))\n",
        "\n",
        "n_epochs = 1\n",
        "optimizer = tf.keras.optimizers.SGD(learning_rate=0.01)\n",
        "loss_fn = tf.keras.losses.MeanSquaredError()\n",
        "# for epoch in range(n_epochs):\n",
        "  # print(\"\\rEpoch {}/{}\".format(epoch + 1, n_epochs), end=\"\")\n",
        "  # train_one_epoch(model, optimizer, loss_fn, train_set)"
      ],
      "metadata": {
        "id": "BUv70ugU4CrW"
      },
      "execution_count": null,
      "outputs": []
    },
    {
      "cell_type": "markdown",
      "source": [
        "## TFRecord Format\n",
        "Preferred format for storing large amounts of data and reading it efficiently"
      ],
      "metadata": {
        "id": "looZvC0--MRd"
      }
    },
    {
      "cell_type": "code",
      "source": [
        "# Create TFRecord file with tf.io.TFRecordWriter class\n",
        "with tf.io.TFRecordWriter(\"my_tfr_data.tfrecord\") as f:\n",
        "  f.write(b\"This is the first record\") # b means byte string\n",
        "  f.write(b\"And this is the second record\")"
      ],
      "metadata": {
        "id": "Hc9ZgxcN-kSO"
      },
      "execution_count": null,
      "outputs": []
    },
    {
      "cell_type": "code",
      "source": [
        "# Use tf.data.TFRecordDataset to read TFRecord files\n",
        "filepaths = [\"my_tfr_data.tfrecord\"]\n",
        "dataset = tf.data.TFRecordDataset(filepaths)\n",
        "for item in dataset:\n",
        "  print(item)"
      ],
      "metadata": {
        "colab": {
          "base_uri": "https://localhost:8080/"
        },
        "id": "905Ch4D__JaU",
        "outputId": "fd127a7a-326c-4e65-b1d4-0b9d0d69c8c9"
      },
      "execution_count": null,
      "outputs": [
        {
          "output_type": "stream",
          "name": "stdout",
          "text": [
            "tf.Tensor(b'This is the first record', shape=(), dtype=string)\n",
            "tf.Tensor(b'And this is the second record', shape=(), dtype=string)\n"
          ]
        }
      ]
    },
    {
      "cell_type": "code",
      "source": [
        "# Create a compressed TFRecord file by setting the options argument\n",
        "options = tf.io.TFRecordOptions(compression_type=\"GZIP\")\n",
        "with tf.io.TFRecordWriter(\"my_compressed_tfr.tfrecord\", options) as f:\n",
        "  f.write(b\"This is the first record\")\n",
        "  f.write(b\"And this is the second record\")"
      ],
      "metadata": {
        "id": "ajjQOYKo_fvB"
      },
      "execution_count": null,
      "outputs": []
    },
    {
      "cell_type": "code",
      "source": [
        "# Read the compressed TFRecord file (you need to specify the compressioni type)\n",
        "dataset_ziped = tf.data.TFRecordDataset([\"my_compressed_tfr.tfrecord\"],\n",
        "                                  compression_type=\"GZIP\")\n",
        "for item in dataset_ziped:\n",
        "  print(item)"
      ],
      "metadata": {
        "colab": {
          "base_uri": "https://localhost:8080/"
        },
        "id": "vLIb1jvWAmmE",
        "outputId": "016e15fa-9d99-4be0-909a-cba617af5cd0"
      },
      "execution_count": null,
      "outputs": [
        {
          "output_type": "stream",
          "name": "stdout",
          "text": [
            "tf.Tensor(b'This is the first record', shape=(), dtype=string)\n",
            "tf.Tensor(b'And this is the second record', shape=(), dtype=string)\n"
          ]
        }
      ]
    },
    {
      "cell_type": "code",
      "source": [
        "# Compare the sizes\n",
        "import os\n",
        "print(f'Not-Ziped: {os.path.getsize(\"my_tfr_data.tfrecord\")} | Ziped: {os.path.getsize(\"my_compressed_tfr.tfrecord\")}')"
      ],
      "metadata": {
        "colab": {
          "base_uri": "https://localhost:8080/"
        },
        "id": "V2AIzyAgA98_",
        "outputId": "f40af3a0-b85a-4993-eef2-0517b7fc3c93"
      },
      "execution_count": null,
      "outputs": [
        {
          "output_type": "stream",
          "name": "stdout",
          "text": [
            "Not-Ziped: 85 | Ziped: 79\n"
          ]
        }
      ]
    },
    {
      "cell_type": "markdown",
      "source": [
        "### Protocol Buffers\n",
        "Serialized protocol buffers (also protobufs) are usually consist in TFRecord files. It is portable, extensible, and efficient open source *binary format* developed at Google.\n",
        "\n",
        "**Definition of ptorobufs looks like this:** \\\n",
        "`syntax = \"proto3\" # Version of protobuf format \\\n",
        " message Person { # Person object \\\n",
        "    string name = 1; # Dtype name = value \\\n",
        "    int32 id = 2; \\\n",
        "    repeated string email = 3;} # Zero or more string email fields`"
      ],
      "metadata": {
        "id": "X-VWCLo4BiLM"
      }
    },
    {
      "cell_type": "code",
      "source": [
        "# Create an example protobuf\n",
        "from tensorflow.train import BytesList, FloatList, Int64List\n",
        "from tensorflow.train import Feature, Features, Example\n",
        "\n",
        "person_example = Example(\n",
        "    features=Features(\n",
        "        feature={\n",
        "            \"name\": Feature(bytes_list=BytesList(value=[b\"Alice\"])),\n",
        "            \"id\": Feature(int64_list=Int64List(value=[123])),\n",
        "            \"emails\": Feature(bytes_list=BytesList(value=[b\"info@gm.com\",\n",
        "                                                           b\"info@ab.com\"]))\n",
        "        }\n",
        "    )\n",
        ")"
      ],
      "metadata": {
        "id": "9zoOmcMcFe5W"
      },
      "execution_count": null,
      "outputs": []
    },
    {
      "cell_type": "code",
      "source": [
        "# Write this example protobuf as a .tfrecord file\n",
        "with tf.io.TFRecordWriter(\"my_example_protobuf.tfrecord\") as f:\n",
        "  for _ in range(5):\n",
        "    f.write(person_example.SerializeToString()) # Serialize it"
      ],
      "metadata": {
        "id": "dKBIcGWVJQii"
      },
      "execution_count": null,
      "outputs": []
    },
    {
      "cell_type": "code",
      "source": [
        "# Load the serialized Example protobuf\n",
        "feature_description = {\n",
        "    \"name\": tf.io.FixedLenFeature([], tf.string, default_value=\"\"),\n",
        "    \"id\": tf.io.FixedLenFeature([], tf.int64, default_value=0),\n",
        "    \"emails\": tf.io.VarLenFeature(tf.string)\n",
        "}\n",
        "\n",
        "def parse(serialized_example):\n",
        "  return tf.io.parse_single_example(serialized_example, feature_description)\n",
        "\n",
        "dataset = tf.data.TFRecordDataset([\"my_example_protobuf.tfrecord\"]).map(parse)\n",
        "for parsed_example in dataset:\n",
        "  print(parsed_example)"
      ],
      "metadata": {
        "colab": {
          "base_uri": "https://localhost:8080/"
        },
        "id": "yBrmyRZpLVt5",
        "outputId": "e3833ed7-27bc-4dc1-d7a4-5688a1b96757"
      },
      "execution_count": null,
      "outputs": [
        {
          "output_type": "stream",
          "name": "stdout",
          "text": [
            "{'emails': SparseTensor(indices=tf.Tensor(\n",
            "[[0]\n",
            " [1]], shape=(2, 1), dtype=int64), values=tf.Tensor([b'info@gm.com' b'info@ab.com'], shape=(2,), dtype=string), dense_shape=tf.Tensor([2], shape=(1,), dtype=int64)), 'id': <tf.Tensor: shape=(), dtype=int64, numpy=123>, 'name': <tf.Tensor: shape=(), dtype=string, numpy=b'Alice'>}\n",
            "{'emails': SparseTensor(indices=tf.Tensor(\n",
            "[[0]\n",
            " [1]], shape=(2, 1), dtype=int64), values=tf.Tensor([b'info@gm.com' b'info@ab.com'], shape=(2,), dtype=string), dense_shape=tf.Tensor([2], shape=(1,), dtype=int64)), 'id': <tf.Tensor: shape=(), dtype=int64, numpy=123>, 'name': <tf.Tensor: shape=(), dtype=string, numpy=b'Alice'>}\n",
            "{'emails': SparseTensor(indices=tf.Tensor(\n",
            "[[0]\n",
            " [1]], shape=(2, 1), dtype=int64), values=tf.Tensor([b'info@gm.com' b'info@ab.com'], shape=(2,), dtype=string), dense_shape=tf.Tensor([2], shape=(1,), dtype=int64)), 'id': <tf.Tensor: shape=(), dtype=int64, numpy=123>, 'name': <tf.Tensor: shape=(), dtype=string, numpy=b'Alice'>}\n",
            "{'emails': SparseTensor(indices=tf.Tensor(\n",
            "[[0]\n",
            " [1]], shape=(2, 1), dtype=int64), values=tf.Tensor([b'info@gm.com' b'info@ab.com'], shape=(2,), dtype=string), dense_shape=tf.Tensor([2], shape=(1,), dtype=int64)), 'id': <tf.Tensor: shape=(), dtype=int64, numpy=123>, 'name': <tf.Tensor: shape=(), dtype=string, numpy=b'Alice'>}\n",
            "{'emails': SparseTensor(indices=tf.Tensor(\n",
            "[[0]\n",
            " [1]], shape=(2, 1), dtype=int64), values=tf.Tensor([b'info@gm.com' b'info@ab.com'], shape=(2,), dtype=string), dense_shape=tf.Tensor([2], shape=(1,), dtype=int64)), 'id': <tf.Tensor: shape=(), dtype=int64, numpy=123>, 'name': <tf.Tensor: shape=(), dtype=string, numpy=b'Alice'>}\n"
          ]
        }
      ]
    },
    {
      "cell_type": "code",
      "source": [
        "parsed_example[\"emails\"].values"
      ],
      "metadata": {
        "colab": {
          "base_uri": "https://localhost:8080/"
        },
        "id": "TYvlZT8KM7RR",
        "outputId": "09ed3e56-ad95-4ef2-92e4-a85b469d0f7e"
      },
      "execution_count": null,
      "outputs": [
        {
          "output_type": "execute_result",
          "data": {
            "text/plain": [
              "<tf.Tensor: shape=(2,), dtype=string, numpy=array([b'info@gm.com', b'info@ab.com'], dtype=object)>"
            ]
          },
          "metadata": {},
          "execution_count": 18
        }
      ]
    },
    {
      "cell_type": "code",
      "source": [
        "tf.sparse.to_dense(parsed_example[\"emails\"], default_value=b\"\")"
      ],
      "metadata": {
        "colab": {
          "base_uri": "https://localhost:8080/"
        },
        "id": "vDubY5QGNQnz",
        "outputId": "6eb7bc86-66f6-44b9-b41b-034cbcd2b9e2"
      },
      "execution_count": null,
      "outputs": [
        {
          "output_type": "execute_result",
          "data": {
            "text/plain": [
              "<tf.Tensor: shape=(2,), dtype=string, numpy=array([b'info@gm.com', b'info@ab.com'], dtype=object)>"
            ]
          },
          "metadata": {},
          "execution_count": 19
        }
      ]
    },
    {
      "cell_type": "code",
      "source": [
        "# Parse examples batch by batch instead of one by one\n",
        "def parse(serialized_example):\n",
        "  return tf.io.parse_example(serialized_example, feature_description) # *\n",
        "\n",
        "dataset = tf.data.TFRecordDataset([\"my_example_protobuf.tfrecord\"]).batch(2).map(parse)\n",
        "for parsed_example in dataset:\n",
        "  print(parsed_example) # two examples at a time"
      ],
      "metadata": {
        "colab": {
          "base_uri": "https://localhost:8080/"
        },
        "id": "jYwHxUcdNf86",
        "outputId": "81224e26-8573-490b-8b74-d881cfc935fb"
      },
      "execution_count": null,
      "outputs": [
        {
          "output_type": "stream",
          "name": "stdout",
          "text": [
            "{'emails': SparseTensor(indices=tf.Tensor(\n",
            "[[0 0]\n",
            " [0 1]\n",
            " [1 0]\n",
            " [1 1]], shape=(4, 2), dtype=int64), values=tf.Tensor([b'info@gm.com' b'info@ab.com' b'info@gm.com' b'info@ab.com'], shape=(4,), dtype=string), dense_shape=tf.Tensor([2 2], shape=(2,), dtype=int64)), 'id': <tf.Tensor: shape=(2,), dtype=int64, numpy=array([123, 123])>, 'name': <tf.Tensor: shape=(2,), dtype=string, numpy=array([b'Alice', b'Alice'], dtype=object)>}\n",
            "{'emails': SparseTensor(indices=tf.Tensor(\n",
            "[[0 0]\n",
            " [0 1]\n",
            " [1 0]\n",
            " [1 1]], shape=(4, 2), dtype=int64), values=tf.Tensor([b'info@gm.com' b'info@ab.com' b'info@gm.com' b'info@ab.com'], shape=(4,), dtype=string), dense_shape=tf.Tensor([2 2], shape=(2,), dtype=int64)), 'id': <tf.Tensor: shape=(2,), dtype=int64, numpy=array([123, 123])>, 'name': <tf.Tensor: shape=(2,), dtype=string, numpy=array([b'Alice', b'Alice'], dtype=object)>}\n",
            "{'emails': SparseTensor(indices=tf.Tensor(\n",
            "[[0 0]\n",
            " [0 1]], shape=(2, 2), dtype=int64), values=tf.Tensor([b'info@gm.com' b'info@ab.com'], shape=(2,), dtype=string), dense_shape=tf.Tensor([1 2], shape=(2,), dtype=int64)), 'id': <tf.Tensor: shape=(1,), dtype=int64, numpy=array([123])>, 'name': <tf.Tensor: shape=(1,), dtype=string, numpy=array([b'Alice'], dtype=object)>}\n"
          ]
        }
      ]
    },
    {
      "cell_type": "code",
      "source": [
        "# For Lists of Lists use the SequenceExample Protobuf"
      ],
      "metadata": {
        "id": "VTQAudSKQmCs"
      },
      "execution_count": null,
      "outputs": []
    },
    {
      "cell_type": "markdown",
      "source": [
        "## Keras Preprocessing Layers"
      ],
      "metadata": {
        "id": "omhjVAvuRbMX"
      }
    },
    {
      "cell_type": "code",
      "source": [
        "import numpy as np\n",
        "X_train, y_train = np.random.randn(10, 10), np.random.randint(0, 2, (10, 1))\n",
        "y_train"
      ],
      "metadata": {
        "colab": {
          "base_uri": "https://localhost:8080/"
        },
        "id": "m06rFuguUMAs",
        "outputId": "20bec82f-8957-44bc-dd75-8b5d31ae2d33"
      },
      "execution_count": null,
      "outputs": [
        {
          "output_type": "execute_result",
          "data": {
            "text/plain": [
              "array([[0],\n",
              "       [0],\n",
              "       [0],\n",
              "       [1],\n",
              "       [1],\n",
              "       [0],\n",
              "       [0],\n",
              "       [0],\n",
              "       [1],\n",
              "       [0]])"
            ]
          },
          "metadata": {},
          "execution_count": 22
        }
      ]
    },
    {
      "cell_type": "code",
      "source": [
        "# The normalization layer (covered in Chapter 10)\n",
        "# norm_layer = tf.keras.layers.Normalization()\n",
        "# model = tf.keras.Sequential([\n",
        "#     norm_layer,\n",
        "#     tf.keras.layers.Dense(1)\n",
        "# ])\n",
        "# model.compile(loss=\"mse\", optimizer=tf.keras.optimizers.SGD(learning_rate=0.002))\n",
        "# norm_layer.adapt(X_train) # computes the mean and variance of every feature\n",
        "# model.fit(X_train, y_train, validation_data=(X_valid, y_valid), epochs=5)"
      ],
      "metadata": {
        "id": "aNj2R31kRiyc"
      },
      "execution_count": null,
      "outputs": []
    },
    {
      "cell_type": "code",
      "source": [
        "# Or use normalization layer separately\n",
        "norm_layer = tf.keras.layers.Normalization()\n",
        "norm_layer.adapt(X_train)\n",
        "X_train_scaled = norm_layer(X_train)"
      ],
      "metadata": {
        "id": "hbt5Jyu5S7zk"
      },
      "execution_count": null,
      "outputs": []
    },
    {
      "cell_type": "code",
      "source": [
        "X_train[0], X_train_scaled[0]"
      ],
      "metadata": {
        "colab": {
          "base_uri": "https://localhost:8080/"
        },
        "id": "qXy2DuOkU9N0",
        "outputId": "21ac10ee-631d-4ee4-9c1b-7bc0e4b8fb29"
      },
      "execution_count": null,
      "outputs": [
        {
          "output_type": "execute_result",
          "data": {
            "text/plain": [
              "(array([ 1.13934385,  2.33885594, -0.82743282, -2.15771278, -2.19762434,\n",
              "         1.03937855, -0.31480323, -0.72520217, -1.72163802, -0.38097118]),\n",
              " <tf.Tensor: shape=(10,), dtype=float32, numpy=\n",
              " array([ 1.224756  ,  1.8562059 , -0.667833  , -1.6648324 , -1.6663924 ,\n",
              "         1.3045135 , -0.46323904, -0.7026988 , -1.8669523 ,  0.03310503],\n",
              "       dtype=float32)>)"
            ]
          },
          "metadata": {},
          "execution_count": 25
        }
      ]
    },
    {
      "cell_type": "code",
      "source": [
        "# Now we can train the model\n",
        "model = tf.keras.models.Sequential([tf.keras.layers.Dense(1, activation=\"sigmoid\")])\n",
        "model.compile(loss=\"mse\", optimizer=tf.keras.optimizers.SGD(learning_rate=0.002))\n",
        "history = model.fit(X_train_scaled, y_train, epochs=5)"
      ],
      "metadata": {
        "colab": {
          "base_uri": "https://localhost:8080/"
        },
        "id": "9IjinJmcVFmv",
        "outputId": "a8404994-2519-4025-9fdf-90394231e32b"
      },
      "execution_count": null,
      "outputs": [
        {
          "output_type": "stream",
          "name": "stdout",
          "text": [
            "Epoch 1/5\n",
            "\u001b[1m1/1\u001b[0m \u001b[32m━━━━━━━━━━━━━━━━━━━━\u001b[0m\u001b[37m\u001b[0m \u001b[1m0s\u001b[0m 463ms/step - loss: 0.1273\n",
            "Epoch 2/5\n",
            "\u001b[1m1/1\u001b[0m \u001b[32m━━━━━━━━━━━━━━━━━━━━\u001b[0m\u001b[37m\u001b[0m \u001b[1m0s\u001b[0m 115ms/step - loss: 0.1272\n",
            "Epoch 3/5\n",
            "\u001b[1m1/1\u001b[0m \u001b[32m━━━━━━━━━━━━━━━━━━━━\u001b[0m\u001b[37m\u001b[0m \u001b[1m0s\u001b[0m 59ms/step - loss: 0.1271\n",
            "Epoch 4/5\n",
            "\u001b[1m1/1\u001b[0m \u001b[32m━━━━━━━━━━━━━━━━━━━━\u001b[0m\u001b[37m\u001b[0m \u001b[1m0s\u001b[0m 58ms/step - loss: 0.1271\n",
            "Epoch 5/5\n",
            "\u001b[1m1/1\u001b[0m \u001b[32m━━━━━━━━━━━━━━━━━━━━\u001b[0m\u001b[37m\u001b[0m \u001b[1m0s\u001b[0m 58ms/step - loss: 0.1270\n"
          ]
        }
      ]
    },
    {
      "cell_type": "code",
      "source": [
        "# Now the model expects normalized data as input, but it has no norm_layers, let's fix that.\n",
        "final_model = tf.keras.Sequential([norm_layer, model])\n",
        "X_new = X_train[4]\n",
        "y_pred = final_model(X_new)\n",
        "y_pred"
      ],
      "metadata": {
        "colab": {
          "base_uri": "https://localhost:8080/"
        },
        "id": "9_48S7QxVghK",
        "outputId": "b8f7ccb8-2a0f-47bc-bf68-7c736d0144c6"
      },
      "execution_count": null,
      "outputs": [
        {
          "output_type": "execute_result",
          "data": {
            "text/plain": [
              "<tf.Tensor: shape=(1, 1), dtype=float32, numpy=array([[0.8792807]], dtype=float32)>"
            ]
          },
          "metadata": {},
          "execution_count": 27
        }
      ]
    },
    {
      "cell_type": "code",
      "source": [
        "# Use map to normalize\n",
        "# dataset = dataset.map(lambda X, y: (norm_layer(X), y))"
      ],
      "metadata": {
        "id": "FTm_XQzSWjZn"
      },
      "execution_count": null,
      "outputs": []
    },
    {
      "cell_type": "code",
      "source": [
        "# Create custom normalization layer\n",
        "import numpy as np\n",
        "\n",
        "class MyNormalization(tf.keras.layers.Layer):\n",
        "  def adapt(self, X):\n",
        "    self.mean_ = np.mean(X, axis=0, keepdims=True)\n",
        "    self.std_ = np.std(X, axis=0, keepdims=True)\n",
        "\n",
        "  def call(self, inputs):\n",
        "    eps = tf.keras.backend.epsilon() # a small smoothing term\n",
        "    return (inputs - self.mean_) / (self.std_ + eps)"
      ],
      "metadata": {
        "id": "tzOFgSLbWudR"
      },
      "execution_count": null,
      "outputs": []
    },
    {
      "cell_type": "code",
      "source": [
        "norm = MyNormalization()\n",
        "norm.adapt(X_train)\n",
        "norm(X_train)[0]"
      ],
      "metadata": {
        "colab": {
          "base_uri": "https://localhost:8080/"
        },
        "id": "1uhpOZnGW-LV",
        "outputId": "efca4142-4ef1-4112-f071-97d601a48961"
      },
      "execution_count": null,
      "outputs": [
        {
          "output_type": "execute_result",
          "data": {
            "text/plain": [
              "<tf.Tensor: shape=(10,), dtype=float32, numpy=\n",
              "array([ 1.2247559 ,  1.8562058 , -0.6678329 , -1.6648322 , -1.6663922 ,\n",
              "        1.3045132 , -0.46323898, -0.7026987 , -1.8669522 ,  0.03310502],\n",
              "      dtype=float32)>"
            ]
          },
          "metadata": {},
          "execution_count": 30
        }
      ]
    },
    {
      "cell_type": "code",
      "source": [
        "# Discretization Layer (categorizes the data)\n",
        "age = tf.constant([[10.], [93.], [57.], [18.], [37.], [6.]])\n",
        "discretize_layer = tf.keras.layers.Discretization(bin_boundaries=[18., 50.])\n",
        "age_categories = discretize_layer(age)\n",
        "age_categories # map three categories (less than 18, 18 to 50, 50+)"
      ],
      "metadata": {
        "colab": {
          "base_uri": "https://localhost:8080/"
        },
        "id": "3lmN9EX1X8a4",
        "outputId": "b04607f7-32ea-42c1-ca50-15ebd0eab0f4"
      },
      "execution_count": null,
      "outputs": [
        {
          "output_type": "execute_result",
          "data": {
            "text/plain": [
              "<tf.Tensor: shape=(6, 1), dtype=int64, numpy=\n",
              "array([[0],\n",
              "       [2],\n",
              "       [2],\n",
              "       [1],\n",
              "       [1],\n",
              "       [0]])>"
            ]
          },
          "metadata": {},
          "execution_count": 31
        }
      ]
    },
    {
      "cell_type": "code",
      "source": [
        "# Let Discretization Layer find categories itself with num_bins parameter\n",
        "age = tf.constant([[10.], [93.], [57.], [18.], [37.], [6.]])\n",
        "discretize_layer = tf.keras.layers.Discretization(num_bins=3)\n",
        "discretize_layer.adapt(age) # But first call the .adapt() method\n",
        "age_categories = discretize_layer(age)\n",
        "age_categories"
      ],
      "metadata": {
        "colab": {
          "base_uri": "https://localhost:8080/"
        },
        "id": "O3Jevyu5ZEps",
        "outputId": "a25f162e-5e5a-46be-b85e-429745e7caaa"
      },
      "execution_count": null,
      "outputs": [
        {
          "output_type": "execute_result",
          "data": {
            "text/plain": [
              "<tf.Tensor: shape=(6, 1), dtype=int64, numpy=\n",
              "array([[1],\n",
              "       [2],\n",
              "       [2],\n",
              "       [1],\n",
              "       [2],\n",
              "       [0]])>"
            ]
          },
          "metadata": {},
          "execution_count": 32
        }
      ]
    },
    {
      "cell_type": "markdown",
      "source": [
        "### The CategoryEncoding Layer"
      ],
      "metadata": {
        "id": "qnXnOS6JdrQT"
      }
    },
    {
      "cell_type": "code",
      "source": [
        "onehot_layer = tf.keras.layers.CategoryEncoding(num_tokens=3)\n",
        "onehot_layer(age_categories)"
      ],
      "metadata": {
        "colab": {
          "base_uri": "https://localhost:8080/"
        },
        "id": "VF2m3rS5eCIJ",
        "outputId": "f747e479-316f-4ddb-8125-2d178c866988"
      },
      "execution_count": null,
      "outputs": [
        {
          "output_type": "execute_result",
          "data": {
            "text/plain": [
              "<tf.Tensor: shape=(6, 3), dtype=float32, numpy=\n",
              "array([[0., 1., 0.],\n",
              "       [0., 0., 1.],\n",
              "       [0., 0., 1.],\n",
              "       [0., 1., 0.],\n",
              "       [0., 0., 1.],\n",
              "       [1., 0., 0.]], dtype=float32)>"
            ]
          },
          "metadata": {},
          "execution_count": 33
        }
      ]
    },
    {
      "cell_type": "code",
      "source": [
        "# Multi-hot encoding\n",
        "two_age_categories = np.array([[0, 2], [0, 1], [2, 2]])\n",
        "onehot_layer(two_age_categories)"
      ],
      "metadata": {
        "colab": {
          "base_uri": "https://localhost:8080/"
        },
        "id": "OkTFwZRBeVpe",
        "outputId": "292698b1-009e-4ece-e40f-45c0818b8f94"
      },
      "execution_count": null,
      "outputs": [
        {
          "output_type": "execute_result",
          "data": {
            "text/plain": [
              "<tf.Tensor: shape=(3, 3), dtype=float32, numpy=\n",
              "array([[1., 0., 1.],\n",
              "       [1., 1., 0.],\n",
              "       [0., 0., 1.]], dtype=float32)>"
            ]
          },
          "metadata": {},
          "execution_count": 43
        }
      ]
    },
    {
      "cell_type": "code",
      "source": [
        "onehot_count_layer = tf.keras.layers.CategoryEncoding(num_tokens=3, output_mode=\"count\") # Outputs count of each element\n",
        "two_age_categories = np.array([[0, 2], [0, 1], [2, 2]])\n",
        "onehot_count_layer(two_age_categories)"
      ],
      "metadata": {
        "colab": {
          "base_uri": "https://localhost:8080/"
        },
        "id": "hspvDFJEe7Fv",
        "outputId": "9fcab310-10c1-4725-8a69-de180bce9953"
      },
      "execution_count": null,
      "outputs": [
        {
          "output_type": "execute_result",
          "data": {
            "text/plain": [
              "<tf.Tensor: shape=(3, 3), dtype=float32, numpy=\n",
              "array([[1., 0., 1.],\n",
              "       [1., 1., 0.],\n",
              "       [0., 0., 2.]], dtype=float32)>"
            ]
          },
          "metadata": {},
          "execution_count": 51
        }
      ]
    },
    {
      "cell_type": "code",
      "source": [
        "# [0, 2] and [2, 0] both outputs [1, 0, 1], but the indecies are different\n",
        "# In the [2, 0] 0 has index of 1 and 2 has index of 0.\n",
        "onehot_layer(np.array([[0, 2], [2, 0]]))"
      ],
      "metadata": {
        "colab": {
          "base_uri": "https://localhost:8080/"
        },
        "id": "bKsrP2BkgaPc",
        "outputId": "72e1668f-c397-4943-beb8-ca43654ae1c5"
      },
      "execution_count": null,
      "outputs": [
        {
          "output_type": "execute_result",
          "data": {
            "text/plain": [
              "<tf.Tensor: shape=(2, 3), dtype=float32, numpy=\n",
              "array([[1., 0., 1.],\n",
              "       [1., 0., 1.]], dtype=float32)>"
            ]
          },
          "metadata": {},
          "execution_count": 56
        }
      ]
    },
    {
      "cell_type": "code",
      "source": [
        "# To avoid this encode each feature separately and concatenate the outputs (per-feature one-hot encoding)\n",
        "onehot_layer = tf.keras.layers.CategoryEncoding(num_tokens=3 + 3)\n",
        "two_age_categories, onehot_layer(two_age_categories + [0, 3])"
      ],
      "metadata": {
        "colab": {
          "base_uri": "https://localhost:8080/"
        },
        "id": "Ju38e9VohEu0",
        "outputId": "3280a938-6b93-471b-f1ad-efbd2aa3db6d"
      },
      "execution_count": null,
      "outputs": [
        {
          "output_type": "execute_result",
          "data": {
            "text/plain": [
              "(array([[0, 2],\n",
              "        [0, 1],\n",
              "        [2, 2]]),\n",
              " <tf.Tensor: shape=(3, 6), dtype=float32, numpy=\n",
              " array([[1., 0., 0., 0., 0., 1.],\n",
              "        [1., 0., 0., 0., 1., 0.],\n",
              "        [0., 0., 1., 0., 0., 1.]], dtype=float32)>)"
            ]
          },
          "metadata": {},
          "execution_count": 69
        }
      ]
    },
    {
      "cell_type": "code",
      "source": [
        "int_lookup = tf.keras.layers.IntegerLookup(output_mode=\"one_hot\")\n",
        "int_lookup.adapt(age)\n",
        "int_lookup(tf.constant([[19.], [37.], [6.]]))"
      ],
      "metadata": {
        "colab": {
          "base_uri": "https://localhost:8080/"
        },
        "id": "SNyD-qyzlBx5",
        "outputId": "9d2133fc-e195-444a-af26-3e8cc592a595"
      },
      "execution_count": null,
      "outputs": [
        {
          "output_type": "execute_result",
          "data": {
            "text/plain": [
              "<tf.Tensor: shape=(3, 7), dtype=int64, numpy=\n",
              "array([[1, 0, 0, 0, 0, 0, 0],\n",
              "       [0, 0, 0, 1, 0, 0, 0],\n",
              "       [0, 0, 0, 0, 0, 0, 1]])>"
            ]
          },
          "metadata": {},
          "execution_count": 101
        }
      ]
    },
    {
      "cell_type": "code",
      "source": [
        "dict(enumerate(int_lookup.get_vocabulary())) # List the categories"
      ],
      "metadata": {
        "colab": {
          "base_uri": "https://localhost:8080/"
        },
        "id": "wVXZqaIJloQD",
        "outputId": "dd443a6d-ead1-4b3c-a532-a37b6cc40390"
      },
      "execution_count": null,
      "outputs": [
        {
          "output_type": "execute_result",
          "data": {
            "text/plain": [
              "{0: -1,\n",
              " 1: np.int64(93),\n",
              " 2: np.int64(57),\n",
              " 3: np.int64(37),\n",
              " 4: np.int64(18),\n",
              " 5: np.int64(10),\n",
              " 6: np.int64(6)}"
            ]
          },
          "metadata": {},
          "execution_count": 99
        }
      ]
    },
    {
      "cell_type": "code",
      "source": [
        "# What about strings? The StringLookup Layer\n",
        "cities = [\"Auckland\", \"Paris\", \"Paris\", \"San Francisco\"]\n",
        "str_lookup_layer = tf.keras.layers.StringLookup()\n",
        "str_lookup_layer.adapt(cities)\n",
        "str_lookup_layer([[\"Paris\"], [\"Auckland\"], [\"Auckland\"], [\"Montreal\"], [\"San Francisco\"]])"
      ],
      "metadata": {
        "colab": {
          "base_uri": "https://localhost:8080/"
        },
        "id": "m1Z8q5nBhqWu",
        "outputId": "138d1054-1526-4e5f-e0da-97a98caa3362"
      },
      "execution_count": null,
      "outputs": [
        {
          "output_type": "execute_result",
          "data": {
            "text/plain": [
              "<tf.Tensor: shape=(5, 1), dtype=int64, numpy=\n",
              "array([[1],\n",
              "       [3],\n",
              "       [3],\n",
              "       [0],\n",
              "       [2]])>"
            ]
          },
          "metadata": {},
          "execution_count": 73
        }
      ]
    },
    {
      "cell_type": "code",
      "source": [
        "dict(enumerate(str_lookup_layer.get_vocabulary())) # List the categories"
      ],
      "metadata": {
        "colab": {
          "base_uri": "https://localhost:8080/"
        },
        "id": "X03C8ZUHkYx5",
        "outputId": "fffc3846-e4eb-4274-b79c-0c53dcc441e7"
      },
      "execution_count": null,
      "outputs": [
        {
          "output_type": "execute_result",
          "data": {
            "text/plain": [
              "{0: '[UNK]',\n",
              " 1: np.str_('Paris'),\n",
              " 2: np.str_('San Francisco'),\n",
              " 3: np.str_('Auckland')}"
            ]
          },
          "metadata": {},
          "execution_count": 87
        }
      ]
    },
    {
      "cell_type": "code",
      "source": [
        "# Use \"one-hot\" in output_mode parameter to get a vector for each category\n",
        "str_lookup_layer_o_h = tf.keras.layers.StringLookup(output_mode=\"one_hot\")\n",
        "str_lookup_layer_o_h.adapt(cities)\n",
        "str_lookup_layer_o_h([[\"Paris\"], [\"Auckland\"], [\"Auckland\"], [\"Montreal\"], [\"San Francisco\"]])"
      ],
      "metadata": {
        "colab": {
          "base_uri": "https://localhost:8080/"
        },
        "id": "RGi4lbB8jmxm",
        "outputId": "857e01e0-b2a2-4016-8d0d-047617279fe6"
      },
      "execution_count": null,
      "outputs": [
        {
          "output_type": "execute_result",
          "data": {
            "text/plain": [
              "<tf.Tensor: shape=(5, 4), dtype=int64, numpy=\n",
              "array([[0, 1, 0, 0],\n",
              "       [0, 0, 0, 1],\n",
              "       [0, 0, 0, 1],\n",
              "       [1, 0, 0, 0],\n",
              "       [0, 0, 1, 0]])>"
            ]
          },
          "metadata": {},
          "execution_count": 130
        }
      ]
    },
    {
      "cell_type": "code",
      "source": [
        "# To avoid setting unknown values to 0 use OOV(Out-Of-Vocabulary) parameter.\n",
        "# It creates n indecies for unknown values. It helps the model distinguish unknown categories.\n",
        "str_lookup_layer_oov = tf.keras.layers.StringLookup(num_oov_indices=5)\n",
        "str_lookup_layer_oov.adapt(cities)\n",
        "str_lookup_layer_oov([[\"Paris\"], [\"Montreal\"], [\"Montreal\"], [\"Unknown City\"], [\"UNK\"], [\"San Francisco\"]])"
      ],
      "metadata": {
        "colab": {
          "base_uri": "https://localhost:8080/"
        },
        "id": "qX0w0FVYmIUr",
        "outputId": "3954d0d0-8a9c-4c47-92c5-62e4f0529fbf"
      },
      "execution_count": null,
      "outputs": [
        {
          "output_type": "execute_result",
          "data": {
            "text/plain": [
              "<tf.Tensor: shape=(6, 1), dtype=int64, numpy=\n",
              "array([[5],\n",
              "       [1],\n",
              "       [1],\n",
              "       [2],\n",
              "       [3],\n",
              "       [6]])>"
            ]
          },
          "metadata": {},
          "execution_count": 111
        }
      ]
    },
    {
      "cell_type": "code",
      "source": [
        "dict(enumerate(str_lookup_layer_oov.get_vocabulary()))"
      ],
      "metadata": {
        "colab": {
          "base_uri": "https://localhost:8080/"
        },
        "id": "nD1hMugkmbOv",
        "outputId": "58c8e09e-91f4-4302-87f4-94908b655a4f"
      },
      "execution_count": null,
      "outputs": [
        {
          "output_type": "execute_result",
          "data": {
            "text/plain": [
              "{0: '[UNK]',\n",
              " 1: '[UNK]',\n",
              " 2: '[UNK]',\n",
              " 3: '[UNK]',\n",
              " 4: '[UNK]',\n",
              " 5: np.str_('Paris'),\n",
              " 6: np.str_('San Francisco'),\n",
              " 7: np.str_('Auckland')}"
            ]
          },
          "metadata": {},
          "execution_count": 106
        }
      ]
    },
    {
      "cell_type": "markdown",
      "source": [
        "### The Hashing Layer\n",
        "\n",
        "Doesn't need `adapt()` method"
      ],
      "metadata": {
        "id": "Io7hWZQgv7lH"
      }
    },
    {
      "cell_type": "code",
      "source": [
        "hashing_layer = tf.keras.layers.Hashing(num_bins=10)\n",
        "hashing_layer([[\"Paris\"], [\"Auckland\"], [\"Montreal\"], [\"San Francisco\"]])"
      ],
      "metadata": {
        "colab": {
          "base_uri": "https://localhost:8080/"
        },
        "id": "3LCU16z5v-Nb",
        "outputId": "406f0cb2-0283-47e1-9d71-2ab85ea71b51"
      },
      "execution_count": null,
      "outputs": [
        {
          "output_type": "execute_result",
          "data": {
            "text/plain": [
              "<tf.Tensor: shape=(4, 1), dtype=int64, numpy=\n",
              "array([[0],\n",
              "       [9],\n",
              "       [1],\n",
              "       [5]])>"
            ]
          },
          "metadata": {},
          "execution_count": 112
        }
      ]
    },
    {
      "cell_type": "markdown",
      "source": [
        "## Encoding using Embeddings\n",
        "\n",
        "and Representation Learning"
      ],
      "metadata": {
        "id": "ZveSkC8ex33i"
      }
    },
    {
      "cell_type": "code",
      "source": [
        "tf.random.set_seed(42)\n",
        "embedding_layer = tf.keras.layers.Embedding(input_dim=5, output_dim=2)\n",
        "embedding_layer(np.array([2, 4, 2]))"
      ],
      "metadata": {
        "colab": {
          "base_uri": "https://localhost:8080/"
        },
        "id": "Oa8r99tQx76W",
        "outputId": "c5ba96cc-bff7-4152-af19-f69eedd60200"
      },
      "execution_count": null,
      "outputs": [
        {
          "output_type": "execute_result",
          "data": {
            "text/plain": [
              "<tf.Tensor: shape=(3, 2), dtype=float32, numpy=\n",
              "array([[ 0.00600808, -0.03215845],\n",
              "       [-0.00691634, -0.03258306],\n",
              "       [ 0.00600808, -0.03215845]], dtype=float32)>"
            ]
          },
          "metadata": {},
          "execution_count": 128
        }
      ]
    },
    {
      "cell_type": "code",
      "source": [
        "# What about categorical text? Chain StringLookup and Embedding layers.\n",
        "tf.random.set_seed(42)\n",
        "moods = [\"Good\", \"Bad\", \"Appropriate\", \"Ok\"]\n",
        "str_lookup_layer = tf.keras.layers.StringLookup()\n",
        "str_lookup_layer.adapt(moods)\n",
        "lookup_and_embed = tf.keras.Sequential([\n",
        "    str_lookup_layer,\n",
        "    tf.keras.layers.Embedding(input_dim=str_lookup_layer.vocabulary_size(), output_dim=2)\n",
        "])\n",
        "\n",
        "lookup_and_embed(np.array([\"Ok\", \"Badly\"]))"
      ],
      "metadata": {
        "colab": {
          "base_uri": "https://localhost:8080/"
        },
        "id": "X7FYsZia1ybr",
        "outputId": "1ab19113-2f32-47ae-f88a-8dfbbfc2a391"
      },
      "execution_count": null,
      "outputs": [
        {
          "output_type": "execute_result",
          "data": {
            "text/plain": [
              "<tf.Tensor: shape=(2, 2), dtype=float32, numpy=\n",
              "array([[0.00950231, 0.00836043],\n",
              "       [0.00758078, 0.03128472]], dtype=float32)>"
            ]
          },
          "metadata": {},
          "execution_count": 146
        }
      ]
    },
    {
      "cell_type": "code",
      "source": [
        "str_lookup_layer.vocabulary_size()"
      ],
      "metadata": {
        "colab": {
          "base_uri": "https://localhost:8080/"
        },
        "id": "ZOh1kZVt23Cv",
        "outputId": "2905dca8-48e5-4fe8-9e6d-50ecaac27164"
      },
      "execution_count": null,
      "outputs": [
        {
          "output_type": "execute_result",
          "data": {
            "text/plain": [
              "5"
            ]
          },
          "metadata": {},
          "execution_count": 150
        }
      ]
    },
    {
      "cell_type": "code",
      "source": [
        "# Let's create a model with text categorical embedding\n",
        "tf.random.set_seed(42)\n",
        "np.random.seed(42)\n",
        "X_train_num = np.random.rand(10_000, 8)\n",
        "X_train_cat = np.random.choice(moods, size=10_000).astype(object)\n",
        "y_train = np.random.rand(10_000, 1)\n",
        "X_valid_num = np.random.rand(2_000, 8)\n",
        "X_valid_cat = np.random.choice(moods, size=2_000).astype(object)\n",
        "y_valid = np.random.rand(2_000, 1)"
      ],
      "metadata": {
        "id": "8yXny69b4By0"
      },
      "execution_count": null,
      "outputs": []
    },
    {
      "cell_type": "code",
      "source": [
        "X_train_cat[:5], len(X_train_cat)"
      ],
      "metadata": {
        "colab": {
          "base_uri": "https://localhost:8080/"
        },
        "id": "bO5k5d7i4rdY",
        "outputId": "e1b3eaa7-6df5-4b6b-a568-2a55da2d0f73"
      },
      "execution_count": null,
      "outputs": [
        {
          "output_type": "execute_result",
          "data": {
            "text/plain": [
              "(array(['Ok', 'Bad', 'Appropriate', 'Ok', 'Good'], dtype=object), 10000)"
            ]
          },
          "metadata": {},
          "execution_count": 160
        }
      ]
    },
    {
      "cell_type": "code",
      "source": [
        "# Inputs (num and cat)\n",
        "num_input = tf.keras.layers.Input(shape=[8], name=\"num\")\n",
        "cat_input = tf.keras.layers.Input(shape=[], dtype=tf.string, name=\"cat\")\n",
        "# Embedding layer\n",
        "cat_embeddings = lookup_and_embed(cat_input)\n",
        "# Concatenate layer\n",
        "encoded_inputs = tf.keras.layers.concatenate([num_input, cat_embeddings])\n",
        "# Output\n",
        "outputs = tf.keras.layers.Dense(1)(encoded_inputs)\n",
        "# Build the model\n",
        "model = tf.keras.models.Model(inputs=[num_input, cat_input], outputs=[outputs])\n",
        "model.compile(loss=\"mse\", optimizer=\"sgd\")\n",
        "history = model.fit((X_train_num, X_train_cat), y_train, epochs=5,\n",
        "                    validation_data=((X_valid_num, X_valid_cat), y_valid))"
      ],
      "metadata": {
        "colab": {
          "base_uri": "https://localhost:8080/"
        },
        "id": "iB-uVkBo47vn",
        "outputId": "890c9fb6-3bc5-4b4d-ffdb-5fd71204fc41"
      },
      "execution_count": null,
      "outputs": [
        {
          "output_type": "stream",
          "name": "stdout",
          "text": [
            "Epoch 1/5\n",
            "\u001b[1m313/313\u001b[0m \u001b[32m━━━━━━━━━━━━━━━━━━━━\u001b[0m\u001b[37m\u001b[0m \u001b[1m2s\u001b[0m 5ms/step - loss: 0.1746 - val_loss: 0.1223\n",
            "Epoch 2/5\n",
            "\u001b[1m313/313\u001b[0m \u001b[32m━━━━━━━━━━━━━━━━━━━━\u001b[0m\u001b[37m\u001b[0m \u001b[1m2s\u001b[0m 2ms/step - loss: 0.1112 - val_loss: 0.1011\n",
            "Epoch 3/5\n",
            "\u001b[1m313/313\u001b[0m \u001b[32m━━━━━━━━━━━━━━━━━━━━\u001b[0m\u001b[37m\u001b[0m \u001b[1m2s\u001b[0m 4ms/step - loss: 0.0954 - val_loss: 0.0929\n",
            "Epoch 4/5\n",
            "\u001b[1m313/313\u001b[0m \u001b[32m━━━━━━━━━━━━━━━━━━━━\u001b[0m\u001b[37m\u001b[0m \u001b[1m1s\u001b[0m 4ms/step - loss: 0.0893 - val_loss: 0.0896\n",
            "Epoch 5/5\n",
            "\u001b[1m313/313\u001b[0m \u001b[32m━━━━━━━━━━━━━━━━━━━━\u001b[0m\u001b[37m\u001b[0m \u001b[1m1s\u001b[0m 2ms/step - loss: 0.0868 - val_loss: 0.0881\n"
          ]
        }
      ]
    },
    {
      "cell_type": "code",
      "source": [
        "import tensorflow as tf\n",
        "# TextVectorization for basic text preprocessing\n",
        "train_data = [\"To be\", \"!(to be)\", \"That's the question\", \"Bla bla bla ble ble ble\"]\n",
        "text_vec_layer = tf.keras.layers.TextVectorization() # You can set standardize=None to preserve punctuation\n",
        "text_vec_layer.adapt(train_data)\n",
        "text_vec_layer([\"Salza et picante\", \"Question: be or be?\"])"
      ],
      "metadata": {
        "colab": {
          "base_uri": "https://localhost:8080/"
        },
        "id": "zT6O7KDLLfAX",
        "outputId": "4060d43e-324c-4da5-c22a-e91add8ede4e"
      },
      "execution_count": null,
      "outputs": [
        {
          "output_type": "execute_result",
          "data": {
            "text/plain": [
              "<tf.Tensor: shape=(2, 4), dtype=int64, numpy=\n",
              "array([[1, 1, 1, 0],\n",
              "       [8, 5, 1, 5]])>"
            ]
          },
          "metadata": {},
          "execution_count": 15
        }
      ]
    },
    {
      "cell_type": "code",
      "source": [
        "text_vec_layer.get_vocabulary()"
      ],
      "metadata": {
        "colab": {
          "base_uri": "https://localhost:8080/"
        },
        "id": "h4c7x1P0Mo1j",
        "outputId": "eab5c5f4-ae8f-442d-c6b2-1cdc0eec31bf"
      },
      "execution_count": null,
      "outputs": [
        {
          "output_type": "execute_result",
          "data": {
            "text/plain": [
              "['',\n",
              " '[UNK]',\n",
              " np.str_('ble'),\n",
              " np.str_('bla'),\n",
              " np.str_('to'),\n",
              " np.str_('be'),\n",
              " np.str_('the'),\n",
              " np.str_('thats'),\n",
              " np.str_('question')]"
            ]
          },
          "metadata": {},
          "execution_count": 16
        }
      ]
    },
    {
      "cell_type": "code",
      "source": [
        "# Use output_mode=tf_idf to get weighted embedding (more frequent words are downweighted and vice versa)\n",
        "text_vec_layer = tf.keras.layers.TextVectorization(output_mode=\"tf_idf\")\n",
        "text_vec_layer.adapt(train_data)\n",
        "text_vec_layer([\"Salsa et picante\", \"Ble ble, good\"])"
      ],
      "metadata": {
        "colab": {
          "base_uri": "https://localhost:8080/"
        },
        "id": "e6Zna9VhN_ZA",
        "outputId": "d849502f-9c07-4371-e84a-f4c2493fcade"
      },
      "execution_count": null,
      "outputs": [
        {
          "output_type": "execute_result",
          "data": {
            "text/plain": [
              "<tf.Tensor: shape=(2, 8), dtype=float32, numpy=\n",
              "array([[3.0804243, 0.       , 0.       , 0.       , 0.       , 0.       ,\n",
              "        0.       , 0.       ],\n",
              "       [1.0268081, 2.1972246, 0.       , 0.       , 0.       , 0.       ,\n",
              "        0.       , 0.       ]], dtype=float32)>"
            ]
          },
          "metadata": {},
          "execution_count": 24
        }
      ]
    },
    {
      "cell_type": "code",
      "source": [
        "text_vec_layer.get_vocabulary()"
      ],
      "metadata": {
        "colab": {
          "base_uri": "https://localhost:8080/"
        },
        "id": "FxmS2xWFOP-u",
        "outputId": "92aa2e83-3ec7-4c15-86b3-c7a551664401"
      },
      "execution_count": null,
      "outputs": [
        {
          "output_type": "execute_result",
          "data": {
            "text/plain": [
              "(['[UNK]',\n",
              "  np.str_('ble'),\n",
              "  np.str_('bla'),\n",
              "  np.str_('to'),\n",
              "  np.str_('be'),\n",
              "  np.str_('the'),\n",
              "  np.str_('thats'),\n",
              "  np.str_('question')],\n",
              " [])"
            ]
          },
          "metadata": {},
          "execution_count": 19
        }
      ]
    },
    {
      "cell_type": "code",
      "source": [
        "# Use pretrained Language Model components\n",
        "import tensorflow_hub as hub\n",
        "hub_layer = hub.KerasLayer(\"https://www.kaggle.com/models/google/nnlm/TensorFlow2/en-dim50/1\")\n",
        "sentence_embeddings = hub_layer(tf.constant([\"Salza et picante\", \"Bla bla bla ble ble ble\"]))\n",
        "sentence_embeddings.numpy().round(2)"
      ],
      "metadata": {
        "colab": {
          "base_uri": "https://localhost:8080/"
        },
        "id": "iR6206KnO0ti",
        "outputId": "086109a3-71a8-4e93-ae6f-ddc862d50fff"
      },
      "execution_count": null,
      "outputs": [
        {
          "output_type": "execute_result",
          "data": {
            "text/plain": [
              "array([[ 0.12, -0.35,  0.12, -0.14, -0.11, -0.04, -0.25,  0.13, -0.22,\n",
              "         0.11,  0.27, -0.08,  0.06,  0.04, -0.05,  0.12,  0.05,  0.33,\n",
              "        -0.05, -0.19, -0.08, -0.17,  0.03,  0.16, -0.18,  0.  ,  0.39,\n",
              "        -0.  ,  0.1 ,  0.02,  0.08,  0.26,  0.16, -0.1 , -0.03,  0.05,\n",
              "        -0.16,  0.27, -0.2 , -0.14,  0.24, -0.04, -0.19, -0.18,  0.2 ,\n",
              "         0.01, -0.12,  0.38,  0.04,  0.18],\n",
              "       [ 0.37, -0.31, -0.01, -0.15,  0.05, -0.43, -0.25,  0.23, -0.23,\n",
              "         0.25,  0.13, -0.08,  0.02, -0.01,  0.08,  0.22,  0.3 ,  0.45,\n",
              "         0.03,  0.33,  0.18, -0.03, -0.09,  0.25,  0.1 , -0.18, -0.26,\n",
              "        -0.2 ,  0.12, -0.07, -0.23,  0.33,  0.02, -0.11, -0.36, -0.08,\n",
              "         0.46, -0.49,  0.07, -0.14,  0.54,  0.53, -0.37, -0.78,  0.32,\n",
              "         0.08, -0.45,  0.47,  0.27,  0.23]], dtype=float32)"
            ]
          },
          "metadata": {},
          "execution_count": 27
        }
      ]
    },
    {
      "cell_type": "markdown",
      "source": [
        "### Image Preprocessing Layers"
      ],
      "metadata": {
        "id": "HHKkhiYzRb_i"
      }
    },
    {
      "cell_type": "code",
      "source": [
        "from sklearn.datasets import load_sample_images\n",
        "\n",
        "images = load_sample_images()[\"images\"]\n",
        "crop_image_layer = tf.keras.layers.CenterCrop(height=100, width=100)\n",
        "cropped_images = crop_image_layer(images)"
      ],
      "metadata": {
        "id": "AM1sNbM2Rn5J"
      },
      "execution_count": null,
      "outputs": []
    },
    {
      "cell_type": "code",
      "source": [
        "import matplotlib.pyplot as plt\n",
        "\n",
        "plt.imshow(images[0])\n",
        "plt.show()"
      ],
      "metadata": {
        "colab": {
          "base_uri": "https://localhost:8080/",
          "height": 396
        },
        "id": "6PrL9PqoQ1-O",
        "outputId": "bd713255-bac1-4aee-d78a-63de68557242"
      },
      "execution_count": null,
      "outputs": [
        {
          "output_type": "display_data",
          "data": {
            "text/plain": [
              "<Figure size 640x480 with 1 Axes>"
            ],
            "image/png": "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\n"
          },
          "metadata": {}
        }
      ]
    },
    {
      "cell_type": "code",
      "source": [
        "# Let's experiment\n",
        "random_rotation = tf.keras.layers.RandomRotation(0.23, fill_mode='nearest', data_format='channels_first')\n",
        "random_zoom = tf.keras.layers.RandomZoom(1, fill_mode='nearest', data_format='channels_last')\n",
        "random_contrast = tf.keras.layers.RandomContrast(1, value_range=(0, 50))\n",
        "\n",
        "change_photo = tf.keras.Sequential([random_rotation, random_zoom, random_contrast])"
      ],
      "metadata": {
        "id": "tnQyzsUtTYMd"
      },
      "execution_count": null,
      "outputs": []
    },
    {
      "cell_type": "code",
      "source": [
        "plt.imshow(change_photo(images[0]))"
      ],
      "metadata": {
        "colab": {
          "base_uri": "https://localhost:8080/",
          "height": 451
        },
        "id": "tdT215hBTkQb",
        "outputId": "df2e2fac-ecb1-47be-d0fd-6475b89f6d8c"
      },
      "execution_count": null,
      "outputs": [
        {
          "output_type": "stream",
          "name": "stderr",
          "text": [
            "WARNING:matplotlib.image:Clipping input data to the valid range for imshow with RGB data ([0..1] for floats or [0..255] for integers). Got range [0.0..50.0].\n"
          ]
        },
        {
          "output_type": "execute_result",
          "data": {
            "text/plain": [
              "<matplotlib.image.AxesImage at 0x7f0d7b0d4890>"
            ]
          },
          "metadata": {},
          "execution_count": 183
        },
        {
          "output_type": "display_data",
          "data": {
            "text/plain": [
              "<Figure size 640x480 with 1 Axes>"
            ],
            "image/png": "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\n"
          },
          "metadata": {}
        }
      ]
    },
    {
      "cell_type": "code",
      "source": [
        "# Let's download MNIST with tfds\n",
        "import tensorflow_datasets as tfds\n",
        "datasets = tfds.load(name=\"mnist\")\n",
        "mnist_train, mnist_test = datasets[\"train\"], datasets[\"test\"]"
      ],
      "metadata": {
        "colab": {
          "base_uri": "https://localhost:8080/",
          "height": 186,
          "referenced_widgets": [
            "852e6498cbe545bb8cfc101129314e5b",
            "09b24bee11cd41488486e4a95f4b2044",
            "a24aa1b86b4a4beaae6ee42e61c994f3",
            "2a3be31a0a1c462089b35f478f145535",
            "1aaadec4e4dd429fad1b52a89a318a51",
            "f1c99431591d44b4a527f379cb714e08",
            "99af4b8e8b5a47659fc77f6986f43aac",
            "81b7e87f29164e2c8798b3d26ba0ab65",
            "3918e1f120c04f77b5b1d4dd3da996e6",
            "cde091d16aab42f7a03b3c098b584f4a",
            "8384fe1820874fce90e97ab8c13584a4",
            "3bb5725ead084125b9d10cb397439475",
            "d30ac5e563704e2a9134865f2dc577b5",
            "427feabaeec044db8c55330d73b7ed85",
            "976a1df4bbbb4f16b2693e203856ea4a",
            "a66411b7bc8d4234812873c9b5f7d166",
            "c39cdf2f64e94212b0bd2d80be2d66f3",
            "ce99180690ec4c6880272653684eb3d3",
            "cf03f9c73c554773823e36d6535120be",
            "eab9b1f4e5c442a7bfbaa3b1425c359c",
            "f1706069ccb648fcb708d242a6ae90e1",
            "4df5fdb6ea454658af643e869890c09e",
            "9f29c83d7ece41659510a767c0e45d85",
            "1080be189c34484aa5003f662511d152",
            "4cd1e05e48b74d379ef857c4c7669a78",
            "1a930a57277b4f9cbd61df6d13786b8f",
            "ec6725b4391842dba2b235583b36f480",
            "d1590234a81146809d46a07d25e5b2be",
            "bb7844875d384b108bf00acb516d4eb2",
            "5232f7c5361440ca90a26f648b4a7295",
            "f881fa6893f5414aa9b93dca134f8806",
            "3ec6f96362ba4247b320dc42c995d749",
            "7c5cf4669a774c6c8325234a386df4c8",
            "9472ffab64224ec1b604d01d596be6c5",
            "ca6125ead448432eb673f8c83d509b85",
            "256ad879c8d443e9ac36b48e65b01a4b",
            "fd8f370997db421a9c3c693e1af0eb69",
            "3faf9ba355ec4df9a0e13436fd140cfd",
            "5dc8baa66743410dbd661c7bc0230a24",
            "32aa6944b1624c869e1fe32dff9a8927",
            "500ea87ec0c24827ad9f54d3f4bf22ba",
            "70a27b4cd6564578bf90e484ad921db7",
            "b49d417df48f413c8d1897fdfb40b23e",
            "af6c8357e80a4d8ba03f2395606accb9",
            "6f3c3bf0448f48658d304e45586a9548",
            "6aecfebf22de4f9db1705ff3898202ec",
            "32253e9852a84b48a3edc646d934652c",
            "6678236b87af47f89e4245e3bc84b61e",
            "cc5fb9eff9b145239c78768533880743",
            "6ec03878714549c0831d20cfdaec4d47",
            "76da99f25d464167817b0bb392dbd0d2",
            "7eb72232f1a243ff9f936cc20fd542b0",
            "76902d0378d94f2c8e409dc9bee54596",
            "966aae7ebd7247019845eeea94ebed8b",
            "a5036573911d4649a1542e4b842f3e84",
            "6e8b5e5ab78d4bc7b65f52d52431cb08",
            "641e81f10e3a452baf608af1b6b161ac",
            "f37cb7e272e34bee99c8dcfae3201258",
            "784395661b6f45cd8ca9d50aadac68e7",
            "cb3e3ca5a75249dcb0c9799086ee0fbb",
            "4f52b60327604519961b7c7bf5b36855",
            "cb77a41e1f3f486a9149d093391a82c8",
            "a969763444e047d8a34da7c6607afcee",
            "ff34eb8053254d699d56a22c62be6ddd",
            "6716ed7d0933411dae9f3823407964cb",
            "6da0feef12cc4b29b3b831235d79773c",
            "ed10d52e5f9a40e5b092637cbead5d76",
            "9785639621d041b7be279f3778dc97ac",
            "5d293f39154b4e6da20f9b597228076b",
            "1def5a9770944a1d8b2b14e63ab16915",
            "fa78ee308ad74f899456cad68f41b04c",
            "f31172dc97b84a05bb1e342438a0312e",
            "d10aad5a6c014fd1abf610167ccfda5f",
            "16524511149043139f5b5654582a7a97",
            "d1abc5a13e304e0e85b474df35812c63",
            "e49a42ff56504691b2050db2fcb0a59c",
            "2d7624833ee44a1380236a795cda117f",
            "8ef1edd699e74472b3fbddac712087b9",
            "7736f2ee91ca44d89c5d21b35d04ea5e",
            "47ef372980b9471f8be9356fd0fbc97f",
            "b26a77107e8f4968ac76813dc97bb730",
            "1c6976c0fdda456ea5519577f88dfe24",
            "df572fc135d240ccae9d7b8b854a43d2",
            "a11f05bdbeb24d288944c88291ea3c3d",
            "9aff3eb3e63142389599447db66765a7",
            "97249f1772ab41278eedd3b9e827b043",
            "6b3c945d93db4fe598ee699af9fb30c5",
            "7c1a4c32df2d470784c446c44f1bacbc"
          ]
        },
        "id": "3LAbZySvWhAh",
        "outputId": "7b901631-6fc1-481e-b35a-e0e531a3cdac"
      },
      "execution_count": null,
      "outputs": [
        {
          "output_type": "stream",
          "name": "stderr",
          "text": [
            "WARNING:absl:Variant folder /root/tensorflow_datasets/mnist/3.0.1 has no dataset_info.json\n"
          ]
        },
        {
          "output_type": "stream",
          "name": "stdout",
          "text": [
            "Downloading and preparing dataset Unknown size (download: Unknown size, generated: Unknown size, total: Unknown size) to /root/tensorflow_datasets/mnist/3.0.1...\n"
          ]
        },
        {
          "output_type": "display_data",
          "data": {
            "text/plain": [
              "Dl Completed...: 0 url [00:00, ? url/s]"
            ],
            "application/vnd.jupyter.widget-view+json": {
              "version_major": 2,
              "version_minor": 0,
              "model_id": "852e6498cbe545bb8cfc101129314e5b"
            }
          },
          "metadata": {}
        },
        {
          "output_type": "display_data",
          "data": {
            "text/plain": [
              "Dl Size...: 0 MiB [00:00, ? MiB/s]"
            ],
            "application/vnd.jupyter.widget-view+json": {
              "version_major": 2,
              "version_minor": 0,
              "model_id": "3bb5725ead084125b9d10cb397439475"
            }
          },
          "metadata": {}
        },
        {
          "output_type": "display_data",
          "data": {
            "text/plain": [
              "Extraction completed...: 0 file [00:00, ? file/s]"
            ],
            "application/vnd.jupyter.widget-view+json": {
              "version_major": 2,
              "version_minor": 0,
              "model_id": "9f29c83d7ece41659510a767c0e45d85"
            }
          },
          "metadata": {}
        },
        {
          "output_type": "display_data",
          "data": {
            "text/plain": [
              "Generating splits...:   0%|          | 0/2 [00:00<?, ? splits/s]"
            ],
            "application/vnd.jupyter.widget-view+json": {
              "version_major": 2,
              "version_minor": 0,
              "model_id": "9472ffab64224ec1b604d01d596be6c5"
            }
          },
          "metadata": {}
        },
        {
          "output_type": "display_data",
          "data": {
            "text/plain": [
              "Generating train examples...: 0 examples [00:00, ? examples/s]"
            ],
            "application/vnd.jupyter.widget-view+json": {
              "version_major": 2,
              "version_minor": 0,
              "model_id": "6f3c3bf0448f48658d304e45586a9548"
            }
          },
          "metadata": {}
        },
        {
          "output_type": "display_data",
          "data": {
            "text/plain": [
              "Shuffling /root/tensorflow_datasets/mnist/incomplete.6DXZ0D_3.0.1/mnist-train.tfrecord*...:   0%|          | 0…"
            ],
            "application/vnd.jupyter.widget-view+json": {
              "version_major": 2,
              "version_minor": 0,
              "model_id": "6e8b5e5ab78d4bc7b65f52d52431cb08"
            }
          },
          "metadata": {}
        },
        {
          "output_type": "display_data",
          "data": {
            "text/plain": [
              "Generating test examples...: 0 examples [00:00, ? examples/s]"
            ],
            "application/vnd.jupyter.widget-view+json": {
              "version_major": 2,
              "version_minor": 0,
              "model_id": "ed10d52e5f9a40e5b092637cbead5d76"
            }
          },
          "metadata": {}
        },
        {
          "output_type": "display_data",
          "data": {
            "text/plain": [
              "Shuffling /root/tensorflow_datasets/mnist/incomplete.6DXZ0D_3.0.1/mnist-test.tfrecord*...:   0%|          | 0/…"
            ],
            "application/vnd.jupyter.widget-view+json": {
              "version_major": 2,
              "version_minor": 0,
              "model_id": "8ef1edd699e74472b3fbddac712087b9"
            }
          },
          "metadata": {}
        },
        {
          "output_type": "stream",
          "name": "stdout",
          "text": [
            "Dataset mnist downloaded and prepared to /root/tensorflow_datasets/mnist/3.0.1. Subsequent calls will reuse this data.\n"
          ]
        }
      ]
    },
    {
      "cell_type": "code",
      "source": [
        "# Batching, prefetching, and shuffling or use .load(as_supervised=True) parameter\n",
        "for batch in mnist_train.shuffle(10_000, seed=42).batch(32).prefetch(1):\n",
        "  images = batch[\"image\"]\n",
        "  labels = batch[\"label\"]"
      ],
      "metadata": {
        "id": "mnWyGFSqWyrF"
      },
      "execution_count": null,
      "outputs": []
    },
    {
      "cell_type": "code",
      "source": [
        "# To split the data (90% for train, 10% for validation, 100% for test)\n",
        "train_set, val_set, test_set = tfds.load(name=\"mnist\", split=[\"train[:90%]\", \"train[90:]\", \"test\"])"
      ],
      "metadata": {
        "id": "gbC5rcMTXjFv"
      },
      "execution_count": null,
      "outputs": []
    },
    {
      "cell_type": "markdown",
      "source": [
        "# Exercises"
      ],
      "metadata": {
        "id": "_AY-Libr9wiz"
      }
    },
    {
      "cell_type": "markdown",
      "source": [
        "### 9"
      ],
      "metadata": {
        "id": "mGqabvcG-hI4"
      }
    },
    {
      "cell_type": "code",
      "source": [
        "import tensorflow as tf\n",
        "\n",
        "(X_train_full, y_train_full), (X_test, y_test) = tf.keras.datasets.fashion_mnist.load_data()"
      ],
      "metadata": {
        "id": "4fUi9Deb9zLE"
      },
      "execution_count": 19,
      "outputs": []
    },
    {
      "cell_type": "code",
      "source": [
        "X_valid, X_train = X_train_full[:7500], X_train_full[7500:]\n",
        "y_valid, y_train = y_train_full[:7500], y_train_full[7500:]"
      ],
      "metadata": {
        "id": "zvk6GDwy-eV9"
      },
      "execution_count": 23,
      "outputs": []
    },
    {
      "cell_type": "code",
      "source": [
        "train_set = tf.data.Dataset.from_tensor_slices((X_train, y_train))\n",
        "train_set.shuffle(len(X_train))\n",
        "val_set = tf.data.Dataset.from_tensor_slices((X_valid, y_valid))\n",
        "test_set = tf.data.Dataset.from_tensor_slices((X_test, y_test))"
      ],
      "metadata": {
        "id": "ucslJRPZArZM"
      },
      "execution_count": 25,
      "outputs": []
    },
    {
      "cell_type": "code",
      "source": [
        "# Serialize\n",
        "from tensorflow.train import BytesList, FloatList, Int64List\n",
        "from tensorflow.train import Feature, Features, Example\n",
        "\n",
        "def serialization(image, label):\n",
        "  image_data = tf.io.serialize_tensor(image)\n",
        "\n",
        "  return Example(\n",
        "        features=Features(\n",
        "            feature={\n",
        "                \"image\": Feature(bytes_list=BytesList(value=[image_data.numpy()])),\n",
        "                \"label\": Feature(int64_list=Int64List(value=[label])),\n",
        "            }))"
      ],
      "metadata": {
        "id": "4iQByoWXBkJy"
      },
      "execution_count": 29,
      "outputs": []
    },
    {
      "cell_type": "code",
      "source": [
        "for image, label in val_set.take(1):\n",
        "  serialization(image, label)"
      ],
      "metadata": {
        "id": "H40IR_WNOBak"
      },
      "execution_count": 30,
      "outputs": []
    },
    {
      "cell_type": "code",
      "source": [
        "# Train the data\n",
        "normalization = tf.keras.layers.Normalization()\n",
        "\n",
        "\n",
        "sample_image_batches = train_set.take(100).map(lambda image, label: image)\n",
        "sample_images = np.concatenate(list(sample_image_batches),\n",
        "                               axis=0).astype(np.float32)\n",
        "normalization.adapt(sample_images)\n",
        "\n",
        "model = tf.keras.Sequential([\n",
        "    tf.keras.layers.Input((28, 28)),\n",
        "    normalization,\n",
        "    tf.keras.layers.Flatten(),\n",
        "    tf.keras.layers.Dense(50, activation=\"relu\"),\n",
        "    tf.keras.layers.Dense(10, activation=\"softmax\"),\n",
        "])\n",
        "\n",
        "model.compile(loss=\"sparse_categorical_crossentropy\",\n",
        "              optimizer=\"nadam\", metrics=[\"accuracy\"])"
      ],
      "metadata": {
        "id": "EM9Ff60ROas-"
      },
      "execution_count": 65,
      "outputs": []
    },
    {
      "cell_type": "code",
      "source": [
        "model.fit(X_train, y_train, epochs=5, validation_data=(X_valid, y_valid))"
      ],
      "metadata": {
        "colab": {
          "base_uri": "https://localhost:8080/"
        },
        "id": "GHjlqpw4PDCl",
        "outputId": "45c24aee-1cb6-4e6f-ece6-f4723c68ab01"
      },
      "execution_count": 66,
      "outputs": [
        {
          "output_type": "stream",
          "name": "stdout",
          "text": [
            "Epoch 1/5\n",
            "\u001b[1m1641/1641\u001b[0m \u001b[32m━━━━━━━━━━━━━━━━━━━━\u001b[0m\u001b[37m\u001b[0m \u001b[1m7s\u001b[0m 3ms/step - accuracy: 0.7862 - loss: 0.6102 - val_accuracy: 0.8532 - val_loss: 0.4058\n",
            "Epoch 2/5\n",
            "\u001b[1m1641/1641\u001b[0m \u001b[32m━━━━━━━━━━━━━━━━━━━━\u001b[0m\u001b[37m\u001b[0m \u001b[1m9s\u001b[0m 3ms/step - accuracy: 0.8721 - loss: 0.3502 - val_accuracy: 0.8675 - val_loss: 0.3678\n",
            "Epoch 3/5\n",
            "\u001b[1m1641/1641\u001b[0m \u001b[32m━━━━━━━━━━━━━━━━━━━━\u001b[0m\u001b[37m\u001b[0m \u001b[1m6s\u001b[0m 3ms/step - accuracy: 0.8855 - loss: 0.3150 - val_accuracy: 0.8752 - val_loss: 0.3472\n",
            "Epoch 4/5\n",
            "\u001b[1m1641/1641\u001b[0m \u001b[32m━━━━━━━━━━━━━━━━━━━━\u001b[0m\u001b[37m\u001b[0m \u001b[1m4s\u001b[0m 2ms/step - accuracy: 0.8959 - loss: 0.2852 - val_accuracy: 0.8768 - val_loss: 0.3376\n",
            "Epoch 5/5\n",
            "\u001b[1m1641/1641\u001b[0m \u001b[32m━━━━━━━━━━━━━━━━━━━━\u001b[0m\u001b[37m\u001b[0m \u001b[1m5s\u001b[0m 3ms/step - accuracy: 0.9000 - loss: 0.2697 - val_accuracy: 0.8804 - val_loss: 0.3310\n"
          ]
        },
        {
          "output_type": "execute_result",
          "data": {
            "text/plain": [
              "<keras.src.callbacks.history.History at 0x785001d6ce10>"
            ]
          },
          "metadata": {},
          "execution_count": 66
        }
      ]
    },
    {
      "cell_type": "markdown",
      "source": [
        "### 10"
      ],
      "metadata": {
        "id": "Yvpz8F_-REBC"
      }
    },
    {
      "cell_type": "code",
      "source": [
        "train_set, val_set, test_set = tfds.load(name=\"imdb_reviews\", split=[\"train[:90%]\", \"train[90:]\", \"test\"],  as_supervised=True)"
      ],
      "metadata": {
        "id": "xfSWlPBASWNv"
      },
      "execution_count": 167,
      "outputs": []
    },
    {
      "cell_type": "code",
      "source": [
        "X_train = [X for X, _ in train_set]\n",
        "y_train = [y for _, y in train_set]\n",
        "\n",
        "X_val = [X for X, _ in val_set]\n",
        "y_val = [y for _, y in val_set]\n",
        "\n",
        "X_test = [X for X, _ in test_set]\n",
        "y_test = [y for _, y in test_set]"
      ],
      "metadata": {
        "id": "-ihVsTMsSWYB"
      },
      "execution_count": 168,
      "outputs": []
    },
    {
      "cell_type": "code",
      "source": [
        "train_set_d = tf.data.Dataset.from_tensor_slices((X_train, y_train)).batch(64)\n",
        "val_set_d = tf.data.Dataset.from_tensor_slices((X_val, y_val)).batch(64)"
      ],
      "metadata": {
        "id": "EQHrFsjxezEJ"
      },
      "execution_count": 191,
      "outputs": []
    },
    {
      "cell_type": "code",
      "source": [
        "text_vec = tf.keras.layers.TextVectorization(max_tokens=1000, output_mode=\"tf_idf\")\n",
        "text_vec.adapt(X_train_d)"
      ],
      "metadata": {
        "id": "vRPrYyDoWoHg"
      },
      "execution_count": 192,
      "outputs": []
    },
    {
      "cell_type": "code",
      "source": [
        "bin_clf = tf.keras.Sequential([\n",
        "    text_vec,\n",
        "    tf.keras.layers.Dense(100, activation=\"relu\"),\n",
        "    tf.keras.layers.Dense(1, activation=\"sigmoid\")])"
      ],
      "metadata": {
        "id": "helRxQMUZpFz"
      },
      "execution_count": 193,
      "outputs": []
    },
    {
      "cell_type": "code",
      "source": [
        "bin_clf.compile(loss=tf.keras.losses.BinaryCrossentropy(), optimizer=tf.keras.optimizers.Adamax(learning_rate=0.01), metrics=[\"accuracy\"])"
      ],
      "metadata": {
        "id": "vn5QT-HYafeg"
      },
      "execution_count": 194,
      "outputs": []
    },
    {
      "cell_type": "code",
      "source": [
        "bin_clf.fit(train_set_d, validation_data=val_set_d, epochs=5)"
      ],
      "metadata": {
        "colab": {
          "base_uri": "https://localhost:8080/"
        },
        "id": "Wd3nrkyhc74J",
        "outputId": "96ab926a-3d66-4646-be33-f6855a42e95e"
      },
      "execution_count": 195,
      "outputs": [
        {
          "output_type": "stream",
          "name": "stdout",
          "text": [
            "Epoch 1/5\n",
            "\u001b[1m352/352\u001b[0m \u001b[32m━━━━━━━━━━━━━━━━━━━━\u001b[0m\u001b[37m\u001b[0m \u001b[1m7s\u001b[0m 14ms/step - accuracy: 0.7580 - loss: 0.8465 - val_accuracy: 0.8627 - val_loss: 0.3333\n",
            "Epoch 2/5\n",
            "\u001b[1m352/352\u001b[0m \u001b[32m━━━━━━━━━━━━━━━━━━━━\u001b[0m\u001b[37m\u001b[0m \u001b[1m5s\u001b[0m 13ms/step - accuracy: 0.8529 - loss: 0.3571 - val_accuracy: 0.8708 - val_loss: 0.3121\n",
            "Epoch 3/5\n",
            "\u001b[1m352/352\u001b[0m \u001b[32m━━━━━━━━━━━━━━━━━━━━\u001b[0m\u001b[37m\u001b[0m \u001b[1m6s\u001b[0m 16ms/step - accuracy: 0.8632 - loss: 0.3312 - val_accuracy: 0.8614 - val_loss: 0.3288\n",
            "Epoch 4/5\n",
            "\u001b[1m352/352\u001b[0m \u001b[32m━━━━━━━━━━━━━━━━━━━━\u001b[0m\u001b[37m\u001b[0m \u001b[1m5s\u001b[0m 13ms/step - accuracy: 0.8793 - loss: 0.2924 - val_accuracy: 0.8664 - val_loss: 0.3145\n",
            "Epoch 5/5\n",
            "\u001b[1m352/352\u001b[0m \u001b[32m━━━━━━━━━━━━━━━━━━━━\u001b[0m\u001b[37m\u001b[0m \u001b[1m6s\u001b[0m 16ms/step - accuracy: 0.8981 - loss: 0.2514 - val_accuracy: 0.8741 - val_loss: 0.2950\n"
          ]
        },
        {
          "output_type": "execute_result",
          "data": {
            "text/plain": [
              "<keras.src.callbacks.history.History at 0x784ff9cc4350>"
            ]
          },
          "metadata": {},
          "execution_count": 195
        }
      ]
    },
    {
      "cell_type": "code",
      "source": [
        "bin_clf.predict(tf.constant([\"I mean, movie is OK, but bad\"]))"
      ],
      "metadata": {
        "colab": {
          "base_uri": "https://localhost:8080/"
        },
        "id": "aXyEZwW6g4wG",
        "outputId": "9bea784d-91d3-4918-eeba-9cc7b6f89d20"
      },
      "execution_count": 217,
      "outputs": [
        {
          "output_type": "stream",
          "name": "stdout",
          "text": [
            "\u001b[1m1/1\u001b[0m \u001b[32m━━━━━━━━━━━━━━━━━━━━\u001b[0m\u001b[37m\u001b[0m \u001b[1m0s\u001b[0m 40ms/step\n"
          ]
        },
        {
          "output_type": "execute_result",
          "data": {
            "text/plain": [
              "array([[0.12238545]], dtype=float32)"
            ]
          },
          "metadata": {},
          "execution_count": 217
        }
      ]
    },
    {
      "cell_type": "code",
      "source": [
        "test_set_d = tf.data.Dataset.from_tensor_slices((X_test, y_test)).batch(64)"
      ],
      "metadata": {
        "id": "hkRBGHAPhjtU"
      },
      "execution_count": 218,
      "outputs": []
    },
    {
      "cell_type": "code",
      "source": [
        "y_preds = bin_clf.predict(test_set_d)"
      ],
      "metadata": {
        "colab": {
          "base_uri": "https://localhost:8080/"
        },
        "id": "KZ9DnYuAhAG1",
        "outputId": "7a048a86-072b-4cb3-8467-3241e847ff42"
      },
      "execution_count": 219,
      "outputs": [
        {
          "output_type": "stream",
          "name": "stdout",
          "text": [
            "\u001b[1m391/391\u001b[0m \u001b[32m━━━━━━━━━━━━━━━━━━━━\u001b[0m\u001b[37m\u001b[0m \u001b[1m2s\u001b[0m 5ms/step\n"
          ]
        }
      ]
    },
    {
      "cell_type": "code",
      "source": [
        "labels = (y_preds >= 0.5).astype(int)"
      ],
      "metadata": {
        "id": "OW7988-MhtBx"
      },
      "execution_count": 229,
      "outputs": []
    },
    {
      "cell_type": "code",
      "source": [
        "arr = (labels == y_preds)\n",
        "true_pos = sum(arr)\n",
        "\n",
        "true_pos, len(arr) - true_pos"
      ],
      "metadata": {
        "colab": {
          "base_uri": "https://localhost:8080/"
        },
        "id": "QTi1OxWTiEHi",
        "outputId": "9517d84e-1867-4849-9c34-583010c843f2"
      },
      "execution_count": 240,
      "outputs": [
        {
          "output_type": "execute_result",
          "data": {
            "text/plain": [
              "(array([77]), array([24923]))"
            ]
          },
          "metadata": {},
          "execution_count": 240
        }
      ]
    }
  ]
}
